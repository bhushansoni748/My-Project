{
 "cells": [
  {
   "cell_type": "code",
   "execution_count": 1,
   "metadata": {},
   "outputs": [],
   "source": [
    "import pandas as pd\n",
    "import numpy as np\n",
    "import csv\n",
    "import os\n",
    "import seaborn as sns\n",
    "import matplotlib.pyplot as plt"
   ]
  },
  {
   "cell_type": "code",
   "execution_count": 2,
   "metadata": {},
   "outputs": [
    {
     "name": "stderr",
     "output_type": "stream",
     "text": [
      "C:\\Users\\Admin\\Anaconda3\\lib\\site-packages\\IPython\\core\\interactiveshell.py:2785: DtypeWarning: Columns (18,46,54) have mixed types. Specify dtype option on import or set low_memory=False.\n",
      "  interactivity=interactivity, compiler=compiler, result=result)\n"
     ]
    }
   ],
   "source": [
    "data = pd.read_csv('XYZCorp_LendingData.txt', skiprows=1)"
   ]
  },
  {
   "cell_type": "code",
   "execution_count": 3,
   "metadata": {},
   "outputs": [
    {
     "data": {
      "text/html": [
       "<div>\n",
       "<style scoped>\n",
       "    .dataframe tbody tr th:only-of-type {\n",
       "        vertical-align: middle;\n",
       "    }\n",
       "\n",
       "    .dataframe tbody tr th {\n",
       "        vertical-align: top;\n",
       "    }\n",
       "\n",
       "    .dataframe thead th {\n",
       "        text-align: right;\n",
       "    }\n",
       "</style>\n",
       "<table border=\"1\" class=\"dataframe\">\n",
       "  <thead>\n",
       "    <tr style=\"text-align: right;\">\n",
       "      <th></th>\n",
       "      <th>1</th>\n",
       "      <th>id</th>\n",
       "      <th>member_id</th>\n",
       "      <th>loan_amnt</th>\n",
       "      <th>funded_amnt</th>\n",
       "      <th>funded_amnt_inv</th>\n",
       "      <th>term</th>\n",
       "      <th>int_rate</th>\n",
       "      <th>installment</th>\n",
       "      <th>grade</th>\n",
       "      <th>...</th>\n",
       "      <th>il_util</th>\n",
       "      <th>open_rv_12m</th>\n",
       "      <th>open_rv_24m</th>\n",
       "      <th>max_bal_bc</th>\n",
       "      <th>all_util</th>\n",
       "      <th>total_rev_hi_lim</th>\n",
       "      <th>inq_fi</th>\n",
       "      <th>total_cu_tl</th>\n",
       "      <th>inq_last_12m</th>\n",
       "      <th>default_ind</th>\n",
       "    </tr>\n",
       "  </thead>\n",
       "  <tbody>\n",
       "    <tr>\n",
       "      <th>0</th>\n",
       "      <td>2</td>\n",
       "      <td>1077501</td>\n",
       "      <td>1296599</td>\n",
       "      <td>5000.0</td>\n",
       "      <td>5000.0</td>\n",
       "      <td>4975.0</td>\n",
       "      <td>36 months</td>\n",
       "      <td>10.65</td>\n",
       "      <td>162.87</td>\n",
       "      <td>B</td>\n",
       "      <td>...</td>\n",
       "      <td>NaN</td>\n",
       "      <td>NaN</td>\n",
       "      <td>NaN</td>\n",
       "      <td>NaN</td>\n",
       "      <td>NaN</td>\n",
       "      <td>NaN</td>\n",
       "      <td>NaN</td>\n",
       "      <td>NaN</td>\n",
       "      <td>NaN</td>\n",
       "      <td>0</td>\n",
       "    </tr>\n",
       "    <tr>\n",
       "      <th>1</th>\n",
       "      <td>3</td>\n",
       "      <td>1077430</td>\n",
       "      <td>1314167</td>\n",
       "      <td>2500.0</td>\n",
       "      <td>2500.0</td>\n",
       "      <td>2500.0</td>\n",
       "      <td>60 months</td>\n",
       "      <td>15.27</td>\n",
       "      <td>59.83</td>\n",
       "      <td>C</td>\n",
       "      <td>...</td>\n",
       "      <td>NaN</td>\n",
       "      <td>NaN</td>\n",
       "      <td>NaN</td>\n",
       "      <td>NaN</td>\n",
       "      <td>NaN</td>\n",
       "      <td>NaN</td>\n",
       "      <td>NaN</td>\n",
       "      <td>NaN</td>\n",
       "      <td>NaN</td>\n",
       "      <td>1</td>\n",
       "    </tr>\n",
       "    <tr>\n",
       "      <th>2</th>\n",
       "      <td>4</td>\n",
       "      <td>1077175</td>\n",
       "      <td>1313524</td>\n",
       "      <td>2400.0</td>\n",
       "      <td>2400.0</td>\n",
       "      <td>2400.0</td>\n",
       "      <td>36 months</td>\n",
       "      <td>15.96</td>\n",
       "      <td>84.33</td>\n",
       "      <td>C</td>\n",
       "      <td>...</td>\n",
       "      <td>NaN</td>\n",
       "      <td>NaN</td>\n",
       "      <td>NaN</td>\n",
       "      <td>NaN</td>\n",
       "      <td>NaN</td>\n",
       "      <td>NaN</td>\n",
       "      <td>NaN</td>\n",
       "      <td>NaN</td>\n",
       "      <td>NaN</td>\n",
       "      <td>0</td>\n",
       "    </tr>\n",
       "    <tr>\n",
       "      <th>3</th>\n",
       "      <td>5</td>\n",
       "      <td>1076863</td>\n",
       "      <td>1277178</td>\n",
       "      <td>10000.0</td>\n",
       "      <td>10000.0</td>\n",
       "      <td>10000.0</td>\n",
       "      <td>36 months</td>\n",
       "      <td>13.49</td>\n",
       "      <td>339.31</td>\n",
       "      <td>C</td>\n",
       "      <td>...</td>\n",
       "      <td>NaN</td>\n",
       "      <td>NaN</td>\n",
       "      <td>NaN</td>\n",
       "      <td>NaN</td>\n",
       "      <td>NaN</td>\n",
       "      <td>NaN</td>\n",
       "      <td>NaN</td>\n",
       "      <td>NaN</td>\n",
       "      <td>NaN</td>\n",
       "      <td>0</td>\n",
       "    </tr>\n",
       "    <tr>\n",
       "      <th>4</th>\n",
       "      <td>6</td>\n",
       "      <td>1075358</td>\n",
       "      <td>1311748</td>\n",
       "      <td>3000.0</td>\n",
       "      <td>3000.0</td>\n",
       "      <td>3000.0</td>\n",
       "      <td>60 months</td>\n",
       "      <td>12.69</td>\n",
       "      <td>67.79</td>\n",
       "      <td>B</td>\n",
       "      <td>...</td>\n",
       "      <td>NaN</td>\n",
       "      <td>NaN</td>\n",
       "      <td>NaN</td>\n",
       "      <td>NaN</td>\n",
       "      <td>NaN</td>\n",
       "      <td>NaN</td>\n",
       "      <td>NaN</td>\n",
       "      <td>NaN</td>\n",
       "      <td>NaN</td>\n",
       "      <td>0</td>\n",
       "    </tr>\n",
       "  </tbody>\n",
       "</table>\n",
       "<p>5 rows × 74 columns</p>\n",
       "</div>"
      ],
      "text/plain": [
       "   1       id  member_id  loan_amnt  funded_amnt  funded_amnt_inv        term  \\\n",
       "0  2  1077501    1296599     5000.0       5000.0           4975.0   36 months   \n",
       "1  3  1077430    1314167     2500.0       2500.0           2500.0   60 months   \n",
       "2  4  1077175    1313524     2400.0       2400.0           2400.0   36 months   \n",
       "3  5  1076863    1277178    10000.0      10000.0          10000.0   36 months   \n",
       "4  6  1075358    1311748     3000.0       3000.0           3000.0   60 months   \n",
       "\n",
       "   int_rate  installment grade  ... il_util open_rv_12m open_rv_24m  \\\n",
       "0     10.65       162.87     B  ...     NaN         NaN         NaN   \n",
       "1     15.27        59.83     C  ...     NaN         NaN         NaN   \n",
       "2     15.96        84.33     C  ...     NaN         NaN         NaN   \n",
       "3     13.49       339.31     C  ...     NaN         NaN         NaN   \n",
       "4     12.69        67.79     B  ...     NaN         NaN         NaN   \n",
       "\n",
       "  max_bal_bc  all_util total_rev_hi_lim inq_fi total_cu_tl inq_last_12m  \\\n",
       "0        NaN       NaN              NaN    NaN         NaN          NaN   \n",
       "1        NaN       NaN              NaN    NaN         NaN          NaN   \n",
       "2        NaN       NaN              NaN    NaN         NaN          NaN   \n",
       "3        NaN       NaN              NaN    NaN         NaN          NaN   \n",
       "4        NaN       NaN              NaN    NaN         NaN          NaN   \n",
       "\n",
       "  default_ind  \n",
       "0           0  \n",
       "1           1  \n",
       "2           0  \n",
       "3           0  \n",
       "4           0  \n",
       "\n",
       "[5 rows x 74 columns]"
      ]
     },
     "execution_count": 3,
     "metadata": {},
     "output_type": "execute_result"
    }
   ],
   "source": [
    "data.head()"
   ]
  },
  {
   "cell_type": "code",
   "execution_count": 4,
   "metadata": {},
   "outputs": [
    {
     "data": {
      "text/plain": [
       "(855969, 74)"
      ]
     },
     "execution_count": 4,
     "metadata": {},
     "output_type": "execute_result"
    }
   ],
   "source": [
    "data.shape"
   ]
  },
  {
   "cell_type": "code",
   "execution_count": 5,
   "metadata": {},
   "outputs": [],
   "source": [
    "data.drop([\"1\",\"id\",\"member_id\",\"funded_amnt\",\"annual_inc_joint\",\"dti_joint\",\"verification_status_joint\",\"open_acc_6m\",\"open_il_6m\",\"open_il_12m\",\"open_il_24m\",\"mths_since_rcnt_il\",\"total_bal_il\",\"il_util\",\"open_rv_12m\",\"open_rv_24m\",\"max_bal_bc\",\"all_util\",\"inq_fi\",\"total_cu_tl\",\"inq_last_12m\",\"mths_since_last_major_derog\",\"next_pymnt_d\",\"mths_since_last_record\",\"mths_since_last_delinq\",\"desc\",\"policy_code\"],axis=1,inplace=True)"
   ]
  },
  {
   "cell_type": "code",
   "execution_count": 6,
   "metadata": {},
   "outputs": [
    {
     "data": {
      "text/plain": [
       "(855969, 47)"
      ]
     },
     "execution_count": 6,
     "metadata": {},
     "output_type": "execute_result"
    }
   ],
   "source": [
    "data.shape"
   ]
  },
  {
   "cell_type": "code",
   "execution_count": 7,
   "metadata": {},
   "outputs": [
    {
     "name": "stdout",
     "output_type": "stream",
     "text": [
      "default_ind\n",
      "0    809502\n",
      "1     46467\n",
      "dtype: int64\n"
     ]
    }
   ],
   "source": [
    "print(data.groupby('default_ind').size())"
   ]
  },
  {
   "cell_type": "code",
   "execution_count": 8,
   "metadata": {},
   "outputs": [
    {
     "data": {
      "text/html": [
       "<div>\n",
       "<style scoped>\n",
       "    .dataframe tbody tr th:only-of-type {\n",
       "        vertical-align: middle;\n",
       "    }\n",
       "\n",
       "    .dataframe tbody tr th {\n",
       "        vertical-align: top;\n",
       "    }\n",
       "\n",
       "    .dataframe thead th {\n",
       "        text-align: right;\n",
       "    }\n",
       "</style>\n",
       "<table border=\"1\" class=\"dataframe\">\n",
       "  <thead>\n",
       "    <tr style=\"text-align: right;\">\n",
       "      <th></th>\n",
       "      <th>loan_amnt</th>\n",
       "      <th>funded_amnt_inv</th>\n",
       "      <th>int_rate</th>\n",
       "      <th>installment</th>\n",
       "      <th>annual_inc</th>\n",
       "      <th>dti</th>\n",
       "      <th>delinq_2yrs</th>\n",
       "      <th>inq_last_6mths</th>\n",
       "      <th>open_acc</th>\n",
       "      <th>pub_rec</th>\n",
       "      <th>...</th>\n",
       "      <th>total_rec_late_fee</th>\n",
       "      <th>recoveries</th>\n",
       "      <th>collection_recovery_fee</th>\n",
       "      <th>last_pymnt_amnt</th>\n",
       "      <th>collections_12_mths_ex_med</th>\n",
       "      <th>acc_now_delinq</th>\n",
       "      <th>tot_coll_amt</th>\n",
       "      <th>tot_cur_bal</th>\n",
       "      <th>total_rev_hi_lim</th>\n",
       "      <th>default_ind</th>\n",
       "    </tr>\n",
       "  </thead>\n",
       "  <tbody>\n",
       "    <tr>\n",
       "      <th>loan_amnt</th>\n",
       "      <td>1.000000</td>\n",
       "      <td>0.997601</td>\n",
       "      <td>0.142966</td>\n",
       "      <td>0.944870</td>\n",
       "      <td>0.335209</td>\n",
       "      <td>0.020189</td>\n",
       "      <td>-0.000739</td>\n",
       "      <td>-0.028928</td>\n",
       "      <td>0.198926</td>\n",
       "      <td>-0.082199</td>\n",
       "      <td>...</td>\n",
       "      <td>0.025966</td>\n",
       "      <td>0.075513</td>\n",
       "      <td>0.055135</td>\n",
       "      <td>0.233596</td>\n",
       "      <td>-0.017042</td>\n",
       "      <td>0.003572</td>\n",
       "      <td>-0.004272</td>\n",
       "      <td>0.329130</td>\n",
       "      <td>0.312072</td>\n",
       "      <td>-0.004907</td>\n",
       "    </tr>\n",
       "    <tr>\n",
       "      <th>funded_amnt_inv</th>\n",
       "      <td>0.997601</td>\n",
       "      <td>1.000000</td>\n",
       "      <td>0.143374</td>\n",
       "      <td>0.944149</td>\n",
       "      <td>0.334356</td>\n",
       "      <td>0.021489</td>\n",
       "      <td>0.000050</td>\n",
       "      <td>-0.030462</td>\n",
       "      <td>0.200055</td>\n",
       "      <td>-0.081008</td>\n",
       "      <td>...</td>\n",
       "      <td>0.023091</td>\n",
       "      <td>0.073737</td>\n",
       "      <td>0.053082</td>\n",
       "      <td>0.232029</td>\n",
       "      <td>-0.016556</td>\n",
       "      <td>0.003856</td>\n",
       "      <td>-0.004271</td>\n",
       "      <td>0.329152</td>\n",
       "      <td>0.312107</td>\n",
       "      <td>-0.008209</td>\n",
       "    </tr>\n",
       "    <tr>\n",
       "      <th>int_rate</th>\n",
       "      <td>0.142966</td>\n",
       "      <td>0.143374</td>\n",
       "      <td>1.000000</td>\n",
       "      <td>0.130468</td>\n",
       "      <td>-0.073825</td>\n",
       "      <td>0.078454</td>\n",
       "      <td>0.055400</td>\n",
       "      <td>0.231705</td>\n",
       "      <td>-0.011091</td>\n",
       "      <td>0.052596</td>\n",
       "      <td>...</td>\n",
       "      <td>0.050743</td>\n",
       "      <td>0.110848</td>\n",
       "      <td>0.074360</td>\n",
       "      <td>0.107346</td>\n",
       "      <td>0.012841</td>\n",
       "      <td>0.026476</td>\n",
       "      <td>0.001129</td>\n",
       "      <td>-0.091430</td>\n",
       "      <td>-0.165533</td>\n",
       "      <td>0.155037</td>\n",
       "    </tr>\n",
       "    <tr>\n",
       "      <th>installment</th>\n",
       "      <td>0.944870</td>\n",
       "      <td>0.944149</td>\n",
       "      <td>0.130468</td>\n",
       "      <td>1.000000</td>\n",
       "      <td>0.328578</td>\n",
       "      <td>0.013909</td>\n",
       "      <td>0.007224</td>\n",
       "      <td>0.001659</td>\n",
       "      <td>0.183817</td>\n",
       "      <td>-0.071114</td>\n",
       "      <td>...</td>\n",
       "      <td>0.035728</td>\n",
       "      <td>0.076931</td>\n",
       "      <td>0.057180</td>\n",
       "      <td>0.243246</td>\n",
       "      <td>-0.014565</td>\n",
       "      <td>0.006273</td>\n",
       "      <td>-0.003540</td>\n",
       "      <td>0.298352</td>\n",
       "      <td>0.286857</td>\n",
       "      <td>0.004753</td>\n",
       "    </tr>\n",
       "    <tr>\n",
       "      <th>annual_inc</th>\n",
       "      <td>0.335209</td>\n",
       "      <td>0.334356</td>\n",
       "      <td>-0.073825</td>\n",
       "      <td>0.328578</td>\n",
       "      <td>1.000000</td>\n",
       "      <td>-0.086821</td>\n",
       "      <td>0.047749</td>\n",
       "      <td>0.037251</td>\n",
       "      <td>0.139429</td>\n",
       "      <td>-0.008909</td>\n",
       "      <td>...</td>\n",
       "      <td>0.009864</td>\n",
       "      <td>0.007613</td>\n",
       "      <td>0.006805</td>\n",
       "      <td>0.092662</td>\n",
       "      <td>-0.003789</td>\n",
       "      <td>0.014877</td>\n",
       "      <td>0.001005</td>\n",
       "      <td>0.422618</td>\n",
       "      <td>0.271059</td>\n",
       "      <td>-0.037066</td>\n",
       "    </tr>\n",
       "    <tr>\n",
       "      <th>dti</th>\n",
       "      <td>0.020189</td>\n",
       "      <td>0.021489</td>\n",
       "      <td>0.078454</td>\n",
       "      <td>0.013909</td>\n",
       "      <td>-0.086821</td>\n",
       "      <td>1.000000</td>\n",
       "      <td>-0.002677</td>\n",
       "      <td>-0.005860</td>\n",
       "      <td>0.142068</td>\n",
       "      <td>-0.022717</td>\n",
       "      <td>...</td>\n",
       "      <td>-0.006245</td>\n",
       "      <td>0.001719</td>\n",
       "      <td>0.002923</td>\n",
       "      <td>-0.028601</td>\n",
       "      <td>-0.000117</td>\n",
       "      <td>0.003227</td>\n",
       "      <td>-0.001995</td>\n",
       "      <td>-0.007133</td>\n",
       "      <td>0.032430</td>\n",
       "      <td>0.004429</td>\n",
       "    </tr>\n",
       "    <tr>\n",
       "      <th>delinq_2yrs</th>\n",
       "      <td>-0.000739</td>\n",
       "      <td>0.000050</td>\n",
       "      <td>0.055400</td>\n",
       "      <td>0.007224</td>\n",
       "      <td>0.047749</td>\n",
       "      <td>-0.002677</td>\n",
       "      <td>1.000000</td>\n",
       "      <td>0.022930</td>\n",
       "      <td>0.051502</td>\n",
       "      <td>-0.011081</td>\n",
       "      <td>...</td>\n",
       "      <td>0.013992</td>\n",
       "      <td>-0.000252</td>\n",
       "      <td>0.001467</td>\n",
       "      <td>-0.018805</td>\n",
       "      <td>0.063019</td>\n",
       "      <td>0.130420</td>\n",
       "      <td>0.000154</td>\n",
       "      <td>0.064618</td>\n",
       "      <td>-0.040575</td>\n",
       "      <td>-0.009186</td>\n",
       "    </tr>\n",
       "    <tr>\n",
       "      <th>inq_last_6mths</th>\n",
       "      <td>-0.028928</td>\n",
       "      <td>-0.030462</td>\n",
       "      <td>0.231705</td>\n",
       "      <td>0.001659</td>\n",
       "      <td>0.037251</td>\n",
       "      <td>-0.005860</td>\n",
       "      <td>0.022930</td>\n",
       "      <td>1.000000</td>\n",
       "      <td>0.116532</td>\n",
       "      <td>0.059430</td>\n",
       "      <td>...</td>\n",
       "      <td>0.022820</td>\n",
       "      <td>0.044004</td>\n",
       "      <td>0.029647</td>\n",
       "      <td>0.065455</td>\n",
       "      <td>0.007364</td>\n",
       "      <td>-0.004836</td>\n",
       "      <td>0.003181</td>\n",
       "      <td>0.034806</td>\n",
       "      <td>0.006089</td>\n",
       "      <td>0.074407</td>\n",
       "    </tr>\n",
       "    <tr>\n",
       "      <th>open_acc</th>\n",
       "      <td>0.198926</td>\n",
       "      <td>0.200055</td>\n",
       "      <td>-0.011091</td>\n",
       "      <td>0.183817</td>\n",
       "      <td>0.139429</td>\n",
       "      <td>0.142068</td>\n",
       "      <td>0.051502</td>\n",
       "      <td>0.116532</td>\n",
       "      <td>1.000000</td>\n",
       "      <td>-0.026122</td>\n",
       "      <td>...</td>\n",
       "      <td>-0.009957</td>\n",
       "      <td>0.001957</td>\n",
       "      <td>0.003990</td>\n",
       "      <td>0.029130</td>\n",
       "      <td>0.009998</td>\n",
       "      <td>0.017774</td>\n",
       "      <td>0.000071</td>\n",
       "      <td>0.244465</td>\n",
       "      <td>0.325179</td>\n",
       "      <td>-0.021698</td>\n",
       "    </tr>\n",
       "    <tr>\n",
       "      <th>pub_rec</th>\n",
       "      <td>-0.082199</td>\n",
       "      <td>-0.081008</td>\n",
       "      <td>0.052596</td>\n",
       "      <td>-0.071114</td>\n",
       "      <td>-0.008909</td>\n",
       "      <td>-0.022717</td>\n",
       "      <td>-0.011081</td>\n",
       "      <td>0.059430</td>\n",
       "      <td>-0.026122</td>\n",
       "      <td>1.000000</td>\n",
       "      <td>...</td>\n",
       "      <td>-0.011871</td>\n",
       "      <td>-0.014602</td>\n",
       "      <td>-0.008963</td>\n",
       "      <td>-0.034215</td>\n",
       "      <td>0.020874</td>\n",
       "      <td>-0.000293</td>\n",
       "      <td>0.006816</td>\n",
       "      <td>-0.075956</td>\n",
       "      <td>-0.100227</td>\n",
       "      <td>-0.019607</td>\n",
       "    </tr>\n",
       "    <tr>\n",
       "      <th>revol_bal</th>\n",
       "      <td>0.337489</td>\n",
       "      <td>0.336870</td>\n",
       "      <td>-0.035344</td>\n",
       "      <td>0.320017</td>\n",
       "      <td>0.298569</td>\n",
       "      <td>0.067119</td>\n",
       "      <td>-0.031807</td>\n",
       "      <td>-0.018683</td>\n",
       "      <td>0.225858</td>\n",
       "      <td>-0.101235</td>\n",
       "      <td>...</td>\n",
       "      <td>-0.000166</td>\n",
       "      <td>0.010861</td>\n",
       "      <td>0.008588</td>\n",
       "      <td>0.060027</td>\n",
       "      <td>-0.022552</td>\n",
       "      <td>-0.000677</td>\n",
       "      <td>-0.006117</td>\n",
       "      <td>0.443059</td>\n",
       "      <td>0.820800</td>\n",
       "      <td>-0.020696</td>\n",
       "    </tr>\n",
       "    <tr>\n",
       "      <th>revol_util</th>\n",
       "      <td>0.119635</td>\n",
       "      <td>0.120931</td>\n",
       "      <td>0.271687</td>\n",
       "      <td>0.131928</td>\n",
       "      <td>0.036753</td>\n",
       "      <td>0.086649</td>\n",
       "      <td>-0.016299</td>\n",
       "      <td>-0.088353</td>\n",
       "      <td>-0.144959</td>\n",
       "      <td>-0.079050</td>\n",
       "      <td>...</td>\n",
       "      <td>0.019445</td>\n",
       "      <td>0.029601</td>\n",
       "      <td>0.019880</td>\n",
       "      <td>-0.000939</td>\n",
       "      <td>-0.035707</td>\n",
       "      <td>-0.027270</td>\n",
       "      <td>-0.009252</td>\n",
       "      <td>0.080583</td>\n",
       "      <td>-0.117724</td>\n",
       "      <td>0.044497</td>\n",
       "    </tr>\n",
       "    <tr>\n",
       "      <th>total_acc</th>\n",
       "      <td>0.222084</td>\n",
       "      <td>0.222258</td>\n",
       "      <td>-0.039482</td>\n",
       "      <td>0.199872</td>\n",
       "      <td>0.188651</td>\n",
       "      <td>0.106266</td>\n",
       "      <td>0.121978</td>\n",
       "      <td>0.141854</td>\n",
       "      <td>0.694850</td>\n",
       "      <td>0.012300</td>\n",
       "      <td>...</td>\n",
       "      <td>-0.005655</td>\n",
       "      <td>0.009670</td>\n",
       "      <td>0.011048</td>\n",
       "      <td>0.087729</td>\n",
       "      <td>0.009181</td>\n",
       "      <td>0.026633</td>\n",
       "      <td>0.006463</td>\n",
       "      <td>0.311268</td>\n",
       "      <td>0.255391</td>\n",
       "      <td>-0.021087</td>\n",
       "    </tr>\n",
       "    <tr>\n",
       "      <th>out_prncp</th>\n",
       "      <td>0.639784</td>\n",
       "      <td>0.644011</td>\n",
       "      <td>0.033933</td>\n",
       "      <td>0.539840</td>\n",
       "      <td>0.211549</td>\n",
       "      <td>0.058057</td>\n",
       "      <td>0.030884</td>\n",
       "      <td>-0.104062</td>\n",
       "      <td>0.171050</td>\n",
       "      <td>-0.007978</td>\n",
       "      <td>...</td>\n",
       "      <td>-0.046704</td>\n",
       "      <td>-0.111595</td>\n",
       "      <td>-0.077588</td>\n",
       "      <td>-0.333641</td>\n",
       "      <td>0.015653</td>\n",
       "      <td>0.011834</td>\n",
       "      <td>-0.000840</td>\n",
       "      <td>0.207565</td>\n",
       "      <td>0.221319</td>\n",
       "      <td>-0.225960</td>\n",
       "    </tr>\n",
       "    <tr>\n",
       "      <th>out_prncp_inv</th>\n",
       "      <td>0.639786</td>\n",
       "      <td>0.644023</td>\n",
       "      <td>0.033790</td>\n",
       "      <td>0.539835</td>\n",
       "      <td>0.211591</td>\n",
       "      <td>0.058021</td>\n",
       "      <td>0.030874</td>\n",
       "      <td>-0.104083</td>\n",
       "      <td>0.171053</td>\n",
       "      <td>-0.007976</td>\n",
       "      <td>...</td>\n",
       "      <td>-0.046707</td>\n",
       "      <td>-0.111595</td>\n",
       "      <td>-0.077588</td>\n",
       "      <td>-0.333641</td>\n",
       "      <td>0.015638</td>\n",
       "      <td>0.011824</td>\n",
       "      <td>-0.000841</td>\n",
       "      <td>0.207597</td>\n",
       "      <td>0.221361</td>\n",
       "      <td>-0.225959</td>\n",
       "    </tr>\n",
       "    <tr>\n",
       "      <th>total_pymnt</th>\n",
       "      <td>0.479612</td>\n",
       "      <td>0.474600</td>\n",
       "      <td>0.173387</td>\n",
       "      <td>0.520613</td>\n",
       "      <td>0.163226</td>\n",
       "      <td>-0.040537</td>\n",
       "      <td>-0.031777</td>\n",
       "      <td>0.080476</td>\n",
       "      <td>0.043452</td>\n",
       "      <td>-0.087933</td>\n",
       "      <td>...</td>\n",
       "      <td>0.054403</td>\n",
       "      <td>0.037201</td>\n",
       "      <td>0.035844</td>\n",
       "      <td>0.662738</td>\n",
       "      <td>-0.038618</td>\n",
       "      <td>-0.008220</td>\n",
       "      <td>-0.004203</td>\n",
       "      <td>0.169289</td>\n",
       "      <td>0.120593</td>\n",
       "      <td>-0.039220</td>\n",
       "    </tr>\n",
       "    <tr>\n",
       "      <th>total_pymnt_inv</th>\n",
       "      <td>0.480328</td>\n",
       "      <td>0.478589</td>\n",
       "      <td>0.174453</td>\n",
       "      <td>0.521332</td>\n",
       "      <td>0.163275</td>\n",
       "      <td>-0.039563</td>\n",
       "      <td>-0.031346</td>\n",
       "      <td>0.079531</td>\n",
       "      <td>0.044552</td>\n",
       "      <td>-0.087299</td>\n",
       "      <td>...</td>\n",
       "      <td>0.052077</td>\n",
       "      <td>0.036396</td>\n",
       "      <td>0.034366</td>\n",
       "      <td>0.663272</td>\n",
       "      <td>-0.038350</td>\n",
       "      <td>-0.008021</td>\n",
       "      <td>-0.004202</td>\n",
       "      <td>0.169301</td>\n",
       "      <td>0.120602</td>\n",
       "      <td>-0.040232</td>\n",
       "    </tr>\n",
       "    <tr>\n",
       "      <th>total_rec_prncp</th>\n",
       "      <td>0.395880</td>\n",
       "      <td>0.391010</td>\n",
       "      <td>0.059298</td>\n",
       "      <td>0.455444</td>\n",
       "      <td>0.152245</td>\n",
       "      <td>-0.050855</td>\n",
       "      <td>-0.038068</td>\n",
       "      <td>0.065010</td>\n",
       "      <td>0.032115</td>\n",
       "      <td>-0.084596</td>\n",
       "      <td>...</td>\n",
       "      <td>0.033519</td>\n",
       "      <td>-0.039655</td>\n",
       "      <td>-0.024295</td>\n",
       "      <td>0.744494</td>\n",
       "      <td>-0.037766</td>\n",
       "      <td>-0.010486</td>\n",
       "      <td>-0.003788</td>\n",
       "      <td>0.157435</td>\n",
       "      <td>0.118982</td>\n",
       "      <td>-0.090336</td>\n",
       "    </tr>\n",
       "    <tr>\n",
       "      <th>total_rec_int</th>\n",
       "      <td>0.537586</td>\n",
       "      <td>0.534517</td>\n",
       "      <td>0.446517</td>\n",
       "      <td>0.502038</td>\n",
       "      <td>0.130367</td>\n",
       "      <td>0.008750</td>\n",
       "      <td>0.001380</td>\n",
       "      <td>0.088495</td>\n",
       "      <td>0.061725</td>\n",
       "      <td>-0.059868</td>\n",
       "      <td>...</td>\n",
       "      <td>0.080459</td>\n",
       "      <td>0.069917</td>\n",
       "      <td>0.054602</td>\n",
       "      <td>0.137991</td>\n",
       "      <td>-0.024670</td>\n",
       "      <td>0.002220</td>\n",
       "      <td>-0.003562</td>\n",
       "      <td>0.134022</td>\n",
       "      <td>0.073855</td>\n",
       "      <td>0.046050</td>\n",
       "    </tr>\n",
       "    <tr>\n",
       "      <th>total_rec_late_fee</th>\n",
       "      <td>0.025966</td>\n",
       "      <td>0.023091</td>\n",
       "      <td>0.050743</td>\n",
       "      <td>0.035728</td>\n",
       "      <td>0.009864</td>\n",
       "      <td>-0.006245</td>\n",
       "      <td>0.013992</td>\n",
       "      <td>0.022820</td>\n",
       "      <td>-0.009957</td>\n",
       "      <td>-0.011871</td>\n",
       "      <td>...</td>\n",
       "      <td>1.000000</td>\n",
       "      <td>0.085700</td>\n",
       "      <td>0.078744</td>\n",
       "      <td>-0.009496</td>\n",
       "      <td>-0.003835</td>\n",
       "      <td>0.002229</td>\n",
       "      <td>-0.000592</td>\n",
       "      <td>0.008831</td>\n",
       "      <td>-0.005545</td>\n",
       "      <td>0.140760</td>\n",
       "    </tr>\n",
       "    <tr>\n",
       "      <th>recoveries</th>\n",
       "      <td>0.075513</td>\n",
       "      <td>0.073737</td>\n",
       "      <td>0.110848</td>\n",
       "      <td>0.076931</td>\n",
       "      <td>0.007613</td>\n",
       "      <td>0.001719</td>\n",
       "      <td>-0.000252</td>\n",
       "      <td>0.044004</td>\n",
       "      <td>0.001957</td>\n",
       "      <td>-0.014602</td>\n",
       "      <td>...</td>\n",
       "      <td>0.085700</td>\n",
       "      <td>1.000000</td>\n",
       "      <td>0.803029</td>\n",
       "      <td>-0.038542</td>\n",
       "      <td>-0.004684</td>\n",
       "      <td>0.000883</td>\n",
       "      <td>-0.000919</td>\n",
       "      <td>0.004063</td>\n",
       "      <td>-0.000171</td>\n",
       "      <td>0.475738</td>\n",
       "    </tr>\n",
       "    <tr>\n",
       "      <th>collection_recovery_fee</th>\n",
       "      <td>0.055135</td>\n",
       "      <td>0.053082</td>\n",
       "      <td>0.074360</td>\n",
       "      <td>0.057180</td>\n",
       "      <td>0.006805</td>\n",
       "      <td>0.002923</td>\n",
       "      <td>0.001467</td>\n",
       "      <td>0.029647</td>\n",
       "      <td>0.003990</td>\n",
       "      <td>-0.008963</td>\n",
       "      <td>...</td>\n",
       "      <td>0.078744</td>\n",
       "      <td>0.803029</td>\n",
       "      <td>1.000000</td>\n",
       "      <td>-0.026610</td>\n",
       "      <td>-0.002866</td>\n",
       "      <td>0.000557</td>\n",
       "      <td>-0.000514</td>\n",
       "      <td>0.005704</td>\n",
       "      <td>0.001399</td>\n",
       "      <td>0.330764</td>\n",
       "    </tr>\n",
       "    <tr>\n",
       "      <th>last_pymnt_amnt</th>\n",
       "      <td>0.233596</td>\n",
       "      <td>0.232029</td>\n",
       "      <td>0.107346</td>\n",
       "      <td>0.243246</td>\n",
       "      <td>0.092662</td>\n",
       "      <td>-0.028601</td>\n",
       "      <td>-0.018805</td>\n",
       "      <td>0.065455</td>\n",
       "      <td>0.029130</td>\n",
       "      <td>-0.034215</td>\n",
       "      <td>...</td>\n",
       "      <td>-0.009496</td>\n",
       "      <td>-0.038542</td>\n",
       "      <td>-0.026610</td>\n",
       "      <td>1.000000</td>\n",
       "      <td>-0.017771</td>\n",
       "      <td>-0.002911</td>\n",
       "      <td>-0.002568</td>\n",
       "      <td>0.103113</td>\n",
       "      <td>0.062068</td>\n",
       "      <td>-0.087217</td>\n",
       "    </tr>\n",
       "    <tr>\n",
       "      <th>collections_12_mths_ex_med</th>\n",
       "      <td>-0.017042</td>\n",
       "      <td>-0.016556</td>\n",
       "      <td>0.012841</td>\n",
       "      <td>-0.014565</td>\n",
       "      <td>-0.003789</td>\n",
       "      <td>-0.000117</td>\n",
       "      <td>0.063019</td>\n",
       "      <td>0.007364</td>\n",
       "      <td>0.009998</td>\n",
       "      <td>0.020874</td>\n",
       "      <td>...</td>\n",
       "      <td>-0.003835</td>\n",
       "      <td>-0.004684</td>\n",
       "      <td>-0.002866</td>\n",
       "      <td>-0.017771</td>\n",
       "      <td>1.000000</td>\n",
       "      <td>0.040197</td>\n",
       "      <td>0.009686</td>\n",
       "      <td>-0.010622</td>\n",
       "      <td>-0.016808</td>\n",
       "      <td>-0.010650</td>\n",
       "    </tr>\n",
       "    <tr>\n",
       "      <th>acc_now_delinq</th>\n",
       "      <td>0.003572</td>\n",
       "      <td>0.003856</td>\n",
       "      <td>0.026476</td>\n",
       "      <td>0.006273</td>\n",
       "      <td>0.014877</td>\n",
       "      <td>0.003227</td>\n",
       "      <td>0.130420</td>\n",
       "      <td>-0.004836</td>\n",
       "      <td>0.017774</td>\n",
       "      <td>-0.000293</td>\n",
       "      <td>...</td>\n",
       "      <td>0.002229</td>\n",
       "      <td>0.000883</td>\n",
       "      <td>0.000557</td>\n",
       "      <td>-0.002911</td>\n",
       "      <td>0.040197</td>\n",
       "      <td>1.000000</td>\n",
       "      <td>0.000267</td>\n",
       "      <td>0.022804</td>\n",
       "      <td>0.008254</td>\n",
       "      <td>-0.003116</td>\n",
       "    </tr>\n",
       "    <tr>\n",
       "      <th>tot_coll_amt</th>\n",
       "      <td>-0.004272</td>\n",
       "      <td>-0.004271</td>\n",
       "      <td>0.001129</td>\n",
       "      <td>-0.003540</td>\n",
       "      <td>0.001005</td>\n",
       "      <td>-0.001995</td>\n",
       "      <td>0.000154</td>\n",
       "      <td>0.003181</td>\n",
       "      <td>0.000071</td>\n",
       "      <td>0.006816</td>\n",
       "      <td>...</td>\n",
       "      <td>-0.000592</td>\n",
       "      <td>-0.000919</td>\n",
       "      <td>-0.000514</td>\n",
       "      <td>-0.002568</td>\n",
       "      <td>0.009686</td>\n",
       "      <td>0.000267</td>\n",
       "      <td>1.000000</td>\n",
       "      <td>-0.000331</td>\n",
       "      <td>-0.005025</td>\n",
       "      <td>-0.001921</td>\n",
       "    </tr>\n",
       "    <tr>\n",
       "      <th>tot_cur_bal</th>\n",
       "      <td>0.329130</td>\n",
       "      <td>0.329152</td>\n",
       "      <td>-0.091430</td>\n",
       "      <td>0.298352</td>\n",
       "      <td>0.422618</td>\n",
       "      <td>-0.007133</td>\n",
       "      <td>0.064618</td>\n",
       "      <td>0.034806</td>\n",
       "      <td>0.244465</td>\n",
       "      <td>-0.075956</td>\n",
       "      <td>...</td>\n",
       "      <td>0.008831</td>\n",
       "      <td>0.004063</td>\n",
       "      <td>0.005704</td>\n",
       "      <td>0.103113</td>\n",
       "      <td>-0.010622</td>\n",
       "      <td>0.022804</td>\n",
       "      <td>-0.000331</td>\n",
       "      <td>1.000000</td>\n",
       "      <td>0.384867</td>\n",
       "      <td>-0.036335</td>\n",
       "    </tr>\n",
       "    <tr>\n",
       "      <th>total_rev_hi_lim</th>\n",
       "      <td>0.312072</td>\n",
       "      <td>0.312107</td>\n",
       "      <td>-0.165533</td>\n",
       "      <td>0.286857</td>\n",
       "      <td>0.271059</td>\n",
       "      <td>0.032430</td>\n",
       "      <td>-0.040575</td>\n",
       "      <td>0.006089</td>\n",
       "      <td>0.325179</td>\n",
       "      <td>-0.100227</td>\n",
       "      <td>...</td>\n",
       "      <td>-0.005545</td>\n",
       "      <td>-0.000171</td>\n",
       "      <td>0.001399</td>\n",
       "      <td>0.062068</td>\n",
       "      <td>-0.016808</td>\n",
       "      <td>0.008254</td>\n",
       "      <td>-0.005025</td>\n",
       "      <td>0.384867</td>\n",
       "      <td>1.000000</td>\n",
       "      <td>-0.033620</td>\n",
       "    </tr>\n",
       "    <tr>\n",
       "      <th>default_ind</th>\n",
       "      <td>-0.004907</td>\n",
       "      <td>-0.008209</td>\n",
       "      <td>0.155037</td>\n",
       "      <td>0.004753</td>\n",
       "      <td>-0.037066</td>\n",
       "      <td>0.004429</td>\n",
       "      <td>-0.009186</td>\n",
       "      <td>0.074407</td>\n",
       "      <td>-0.021698</td>\n",
       "      <td>-0.019607</td>\n",
       "      <td>...</td>\n",
       "      <td>0.140760</td>\n",
       "      <td>0.475738</td>\n",
       "      <td>0.330764</td>\n",
       "      <td>-0.087217</td>\n",
       "      <td>-0.010650</td>\n",
       "      <td>-0.003116</td>\n",
       "      <td>-0.001921</td>\n",
       "      <td>-0.036335</td>\n",
       "      <td>-0.033620</td>\n",
       "      <td>1.000000</td>\n",
       "    </tr>\n",
       "  </tbody>\n",
       "</table>\n",
       "<p>29 rows × 29 columns</p>\n",
       "</div>"
      ],
      "text/plain": [
       "                            loan_amnt  funded_amnt_inv  int_rate  installment  \\\n",
       "loan_amnt                    1.000000         0.997601  0.142966     0.944870   \n",
       "funded_amnt_inv              0.997601         1.000000  0.143374     0.944149   \n",
       "int_rate                     0.142966         0.143374  1.000000     0.130468   \n",
       "installment                  0.944870         0.944149  0.130468     1.000000   \n",
       "annual_inc                   0.335209         0.334356 -0.073825     0.328578   \n",
       "dti                          0.020189         0.021489  0.078454     0.013909   \n",
       "delinq_2yrs                 -0.000739         0.000050  0.055400     0.007224   \n",
       "inq_last_6mths              -0.028928        -0.030462  0.231705     0.001659   \n",
       "open_acc                     0.198926         0.200055 -0.011091     0.183817   \n",
       "pub_rec                     -0.082199        -0.081008  0.052596    -0.071114   \n",
       "revol_bal                    0.337489         0.336870 -0.035344     0.320017   \n",
       "revol_util                   0.119635         0.120931  0.271687     0.131928   \n",
       "total_acc                    0.222084         0.222258 -0.039482     0.199872   \n",
       "out_prncp                    0.639784         0.644011  0.033933     0.539840   \n",
       "out_prncp_inv                0.639786         0.644023  0.033790     0.539835   \n",
       "total_pymnt                  0.479612         0.474600  0.173387     0.520613   \n",
       "total_pymnt_inv              0.480328         0.478589  0.174453     0.521332   \n",
       "total_rec_prncp              0.395880         0.391010  0.059298     0.455444   \n",
       "total_rec_int                0.537586         0.534517  0.446517     0.502038   \n",
       "total_rec_late_fee           0.025966         0.023091  0.050743     0.035728   \n",
       "recoveries                   0.075513         0.073737  0.110848     0.076931   \n",
       "collection_recovery_fee      0.055135         0.053082  0.074360     0.057180   \n",
       "last_pymnt_amnt              0.233596         0.232029  0.107346     0.243246   \n",
       "collections_12_mths_ex_med  -0.017042        -0.016556  0.012841    -0.014565   \n",
       "acc_now_delinq               0.003572         0.003856  0.026476     0.006273   \n",
       "tot_coll_amt                -0.004272        -0.004271  0.001129    -0.003540   \n",
       "tot_cur_bal                  0.329130         0.329152 -0.091430     0.298352   \n",
       "total_rev_hi_lim             0.312072         0.312107 -0.165533     0.286857   \n",
       "default_ind                 -0.004907        -0.008209  0.155037     0.004753   \n",
       "\n",
       "                            annual_inc       dti  delinq_2yrs  inq_last_6mths  \\\n",
       "loan_amnt                     0.335209  0.020189    -0.000739       -0.028928   \n",
       "funded_amnt_inv               0.334356  0.021489     0.000050       -0.030462   \n",
       "int_rate                     -0.073825  0.078454     0.055400        0.231705   \n",
       "installment                   0.328578  0.013909     0.007224        0.001659   \n",
       "annual_inc                    1.000000 -0.086821     0.047749        0.037251   \n",
       "dti                          -0.086821  1.000000    -0.002677       -0.005860   \n",
       "delinq_2yrs                   0.047749 -0.002677     1.000000        0.022930   \n",
       "inq_last_6mths                0.037251 -0.005860     0.022930        1.000000   \n",
       "open_acc                      0.139429  0.142068     0.051502        0.116532   \n",
       "pub_rec                      -0.008909 -0.022717    -0.011081        0.059430   \n",
       "revol_bal                     0.298569  0.067119    -0.031807       -0.018683   \n",
       "revol_util                    0.036753  0.086649    -0.016299       -0.088353   \n",
       "total_acc                     0.188651  0.106266     0.121978        0.141854   \n",
       "out_prncp                     0.211549  0.058057     0.030884       -0.104062   \n",
       "out_prncp_inv                 0.211591  0.058021     0.030874       -0.104083   \n",
       "total_pymnt                   0.163226 -0.040537    -0.031777        0.080476   \n",
       "total_pymnt_inv               0.163275 -0.039563    -0.031346        0.079531   \n",
       "total_rec_prncp               0.152245 -0.050855    -0.038068        0.065010   \n",
       "total_rec_int                 0.130367  0.008750     0.001380        0.088495   \n",
       "total_rec_late_fee            0.009864 -0.006245     0.013992        0.022820   \n",
       "recoveries                    0.007613  0.001719    -0.000252        0.044004   \n",
       "collection_recovery_fee       0.006805  0.002923     0.001467        0.029647   \n",
       "last_pymnt_amnt               0.092662 -0.028601    -0.018805        0.065455   \n",
       "collections_12_mths_ex_med   -0.003789 -0.000117     0.063019        0.007364   \n",
       "acc_now_delinq                0.014877  0.003227     0.130420       -0.004836   \n",
       "tot_coll_amt                  0.001005 -0.001995     0.000154        0.003181   \n",
       "tot_cur_bal                   0.422618 -0.007133     0.064618        0.034806   \n",
       "total_rev_hi_lim              0.271059  0.032430    -0.040575        0.006089   \n",
       "default_ind                  -0.037066  0.004429    -0.009186        0.074407   \n",
       "\n",
       "                            open_acc   pub_rec  ...  total_rec_late_fee  \\\n",
       "loan_amnt                   0.198926 -0.082199  ...            0.025966   \n",
       "funded_amnt_inv             0.200055 -0.081008  ...            0.023091   \n",
       "int_rate                   -0.011091  0.052596  ...            0.050743   \n",
       "installment                 0.183817 -0.071114  ...            0.035728   \n",
       "annual_inc                  0.139429 -0.008909  ...            0.009864   \n",
       "dti                         0.142068 -0.022717  ...           -0.006245   \n",
       "delinq_2yrs                 0.051502 -0.011081  ...            0.013992   \n",
       "inq_last_6mths              0.116532  0.059430  ...            0.022820   \n",
       "open_acc                    1.000000 -0.026122  ...           -0.009957   \n",
       "pub_rec                    -0.026122  1.000000  ...           -0.011871   \n",
       "revol_bal                   0.225858 -0.101235  ...           -0.000166   \n",
       "revol_util                 -0.144959 -0.079050  ...            0.019445   \n",
       "total_acc                   0.694850  0.012300  ...           -0.005655   \n",
       "out_prncp                   0.171050 -0.007978  ...           -0.046704   \n",
       "out_prncp_inv               0.171053 -0.007976  ...           -0.046707   \n",
       "total_pymnt                 0.043452 -0.087933  ...            0.054403   \n",
       "total_pymnt_inv             0.044552 -0.087299  ...            0.052077   \n",
       "total_rec_prncp             0.032115 -0.084596  ...            0.033519   \n",
       "total_rec_int               0.061725 -0.059868  ...            0.080459   \n",
       "total_rec_late_fee         -0.009957 -0.011871  ...            1.000000   \n",
       "recoveries                  0.001957 -0.014602  ...            0.085700   \n",
       "collection_recovery_fee     0.003990 -0.008963  ...            0.078744   \n",
       "last_pymnt_amnt             0.029130 -0.034215  ...           -0.009496   \n",
       "collections_12_mths_ex_med  0.009998  0.020874  ...           -0.003835   \n",
       "acc_now_delinq              0.017774 -0.000293  ...            0.002229   \n",
       "tot_coll_amt                0.000071  0.006816  ...           -0.000592   \n",
       "tot_cur_bal                 0.244465 -0.075956  ...            0.008831   \n",
       "total_rev_hi_lim            0.325179 -0.100227  ...           -0.005545   \n",
       "default_ind                -0.021698 -0.019607  ...            0.140760   \n",
       "\n",
       "                            recoveries  collection_recovery_fee  \\\n",
       "loan_amnt                     0.075513                 0.055135   \n",
       "funded_amnt_inv               0.073737                 0.053082   \n",
       "int_rate                      0.110848                 0.074360   \n",
       "installment                   0.076931                 0.057180   \n",
       "annual_inc                    0.007613                 0.006805   \n",
       "dti                           0.001719                 0.002923   \n",
       "delinq_2yrs                  -0.000252                 0.001467   \n",
       "inq_last_6mths                0.044004                 0.029647   \n",
       "open_acc                      0.001957                 0.003990   \n",
       "pub_rec                      -0.014602                -0.008963   \n",
       "revol_bal                     0.010861                 0.008588   \n",
       "revol_util                    0.029601                 0.019880   \n",
       "total_acc                     0.009670                 0.011048   \n",
       "out_prncp                    -0.111595                -0.077588   \n",
       "out_prncp_inv                -0.111595                -0.077588   \n",
       "total_pymnt                   0.037201                 0.035844   \n",
       "total_pymnt_inv               0.036396                 0.034366   \n",
       "total_rec_prncp              -0.039655                -0.024295   \n",
       "total_rec_int                 0.069917                 0.054602   \n",
       "total_rec_late_fee            0.085700                 0.078744   \n",
       "recoveries                    1.000000                 0.803029   \n",
       "collection_recovery_fee       0.803029                 1.000000   \n",
       "last_pymnt_amnt              -0.038542                -0.026610   \n",
       "collections_12_mths_ex_med   -0.004684                -0.002866   \n",
       "acc_now_delinq                0.000883                 0.000557   \n",
       "tot_coll_amt                 -0.000919                -0.000514   \n",
       "tot_cur_bal                   0.004063                 0.005704   \n",
       "total_rev_hi_lim             -0.000171                 0.001399   \n",
       "default_ind                   0.475738                 0.330764   \n",
       "\n",
       "                            last_pymnt_amnt  collections_12_mths_ex_med  \\\n",
       "loan_amnt                          0.233596                   -0.017042   \n",
       "funded_amnt_inv                    0.232029                   -0.016556   \n",
       "int_rate                           0.107346                    0.012841   \n",
       "installment                        0.243246                   -0.014565   \n",
       "annual_inc                         0.092662                   -0.003789   \n",
       "dti                               -0.028601                   -0.000117   \n",
       "delinq_2yrs                       -0.018805                    0.063019   \n",
       "inq_last_6mths                     0.065455                    0.007364   \n",
       "open_acc                           0.029130                    0.009998   \n",
       "pub_rec                           -0.034215                    0.020874   \n",
       "revol_bal                          0.060027                   -0.022552   \n",
       "revol_util                        -0.000939                   -0.035707   \n",
       "total_acc                          0.087729                    0.009181   \n",
       "out_prncp                         -0.333641                    0.015653   \n",
       "out_prncp_inv                     -0.333641                    0.015638   \n",
       "total_pymnt                        0.662738                   -0.038618   \n",
       "total_pymnt_inv                    0.663272                   -0.038350   \n",
       "total_rec_prncp                    0.744494                   -0.037766   \n",
       "total_rec_int                      0.137991                   -0.024670   \n",
       "total_rec_late_fee                -0.009496                   -0.003835   \n",
       "recoveries                        -0.038542                   -0.004684   \n",
       "collection_recovery_fee           -0.026610                   -0.002866   \n",
       "last_pymnt_amnt                    1.000000                   -0.017771   \n",
       "collections_12_mths_ex_med        -0.017771                    1.000000   \n",
       "acc_now_delinq                    -0.002911                    0.040197   \n",
       "tot_coll_amt                      -0.002568                    0.009686   \n",
       "tot_cur_bal                        0.103113                   -0.010622   \n",
       "total_rev_hi_lim                   0.062068                   -0.016808   \n",
       "default_ind                       -0.087217                   -0.010650   \n",
       "\n",
       "                            acc_now_delinq  tot_coll_amt  tot_cur_bal  \\\n",
       "loan_amnt                         0.003572     -0.004272     0.329130   \n",
       "funded_amnt_inv                   0.003856     -0.004271     0.329152   \n",
       "int_rate                          0.026476      0.001129    -0.091430   \n",
       "installment                       0.006273     -0.003540     0.298352   \n",
       "annual_inc                        0.014877      0.001005     0.422618   \n",
       "dti                               0.003227     -0.001995    -0.007133   \n",
       "delinq_2yrs                       0.130420      0.000154     0.064618   \n",
       "inq_last_6mths                   -0.004836      0.003181     0.034806   \n",
       "open_acc                          0.017774      0.000071     0.244465   \n",
       "pub_rec                          -0.000293      0.006816    -0.075956   \n",
       "revol_bal                        -0.000677     -0.006117     0.443059   \n",
       "revol_util                       -0.027270     -0.009252     0.080583   \n",
       "total_acc                         0.026633      0.006463     0.311268   \n",
       "out_prncp                         0.011834     -0.000840     0.207565   \n",
       "out_prncp_inv                     0.011824     -0.000841     0.207597   \n",
       "total_pymnt                      -0.008220     -0.004203     0.169289   \n",
       "total_pymnt_inv                  -0.008021     -0.004202     0.169301   \n",
       "total_rec_prncp                  -0.010486     -0.003788     0.157435   \n",
       "total_rec_int                     0.002220     -0.003562     0.134022   \n",
       "total_rec_late_fee                0.002229     -0.000592     0.008831   \n",
       "recoveries                        0.000883     -0.000919     0.004063   \n",
       "collection_recovery_fee           0.000557     -0.000514     0.005704   \n",
       "last_pymnt_amnt                  -0.002911     -0.002568     0.103113   \n",
       "collections_12_mths_ex_med        0.040197      0.009686    -0.010622   \n",
       "acc_now_delinq                    1.000000      0.000267     0.022804   \n",
       "tot_coll_amt                      0.000267      1.000000    -0.000331   \n",
       "tot_cur_bal                       0.022804     -0.000331     1.000000   \n",
       "total_rev_hi_lim                  0.008254     -0.005025     0.384867   \n",
       "default_ind                      -0.003116     -0.001921    -0.036335   \n",
       "\n",
       "                            total_rev_hi_lim  default_ind  \n",
       "loan_amnt                           0.312072    -0.004907  \n",
       "funded_amnt_inv                     0.312107    -0.008209  \n",
       "int_rate                           -0.165533     0.155037  \n",
       "installment                         0.286857     0.004753  \n",
       "annual_inc                          0.271059    -0.037066  \n",
       "dti                                 0.032430     0.004429  \n",
       "delinq_2yrs                        -0.040575    -0.009186  \n",
       "inq_last_6mths                      0.006089     0.074407  \n",
       "open_acc                            0.325179    -0.021698  \n",
       "pub_rec                            -0.100227    -0.019607  \n",
       "revol_bal                           0.820800    -0.020696  \n",
       "revol_util                         -0.117724     0.044497  \n",
       "total_acc                           0.255391    -0.021087  \n",
       "out_prncp                           0.221319    -0.225960  \n",
       "out_prncp_inv                       0.221361    -0.225959  \n",
       "total_pymnt                         0.120593    -0.039220  \n",
       "total_pymnt_inv                     0.120602    -0.040232  \n",
       "total_rec_prncp                     0.118982    -0.090336  \n",
       "total_rec_int                       0.073855     0.046050  \n",
       "total_rec_late_fee                 -0.005545     0.140760  \n",
       "recoveries                         -0.000171     0.475738  \n",
       "collection_recovery_fee             0.001399     0.330764  \n",
       "last_pymnt_amnt                     0.062068    -0.087217  \n",
       "collections_12_mths_ex_med         -0.016808    -0.010650  \n",
       "acc_now_delinq                      0.008254    -0.003116  \n",
       "tot_coll_amt                       -0.005025    -0.001921  \n",
       "tot_cur_bal                         0.384867    -0.036335  \n",
       "total_rev_hi_lim                    1.000000    -0.033620  \n",
       "default_ind                        -0.033620     1.000000  \n",
       "\n",
       "[29 rows x 29 columns]"
      ]
     },
     "execution_count": 8,
     "metadata": {},
     "output_type": "execute_result"
    }
   ],
   "source": [
    "data.corr()"
   ]
  },
  {
   "cell_type": "code",
   "execution_count": 9,
   "metadata": {},
   "outputs": [
    {
     "data": {
      "text/plain": [
       "loan_amnt                    -0.004907\n",
       "funded_amnt_inv              -0.008209\n",
       "int_rate                      0.155037\n",
       "installment                   0.004753\n",
       "annual_inc                   -0.037066\n",
       "dti                           0.004429\n",
       "delinq_2yrs                  -0.009186\n",
       "inq_last_6mths                0.074407\n",
       "open_acc                     -0.021698\n",
       "pub_rec                      -0.019607\n",
       "revol_bal                    -0.020696\n",
       "revol_util                    0.044497\n",
       "total_acc                    -0.021087\n",
       "out_prncp                    -0.225960\n",
       "out_prncp_inv                -0.225959\n",
       "total_pymnt                  -0.039220\n",
       "total_pymnt_inv              -0.040232\n",
       "total_rec_prncp              -0.090336\n",
       "total_rec_int                 0.046050\n",
       "total_rec_late_fee            0.140760\n",
       "recoveries                    0.475738\n",
       "collection_recovery_fee       0.330764\n",
       "last_pymnt_amnt              -0.087217\n",
       "collections_12_mths_ex_med   -0.010650\n",
       "acc_now_delinq               -0.003116\n",
       "tot_coll_amt                 -0.001921\n",
       "tot_cur_bal                  -0.036335\n",
       "total_rev_hi_lim             -0.033620\n",
       "default_ind                   1.000000\n",
       "Name: default_ind, dtype: float64"
      ]
     },
     "execution_count": 9,
     "metadata": {},
     "output_type": "execute_result"
    }
   ],
   "source": [
    "l1 = data[data.columns].corr()['default_ind'][:]\n",
    "l1"
   ]
  },
  {
   "cell_type": "code",
   "execution_count": 10,
   "metadata": {},
   "outputs": [],
   "source": [
    "l2 = []\n",
    "for i in range(len(l1)):\n",
    "    if l1[i]<0.02 and l1[i]>(-0.02):\n",
    "        l2.append(l1.index[i])"
   ]
  },
  {
   "cell_type": "code",
   "execution_count": 11,
   "metadata": {},
   "outputs": [
    {
     "data": {
      "text/plain": [
       "['loan_amnt',\n",
       " 'funded_amnt_inv',\n",
       " 'installment',\n",
       " 'dti',\n",
       " 'delinq_2yrs',\n",
       " 'pub_rec',\n",
       " 'collections_12_mths_ex_med',\n",
       " 'acc_now_delinq',\n",
       " 'tot_coll_amt']"
      ]
     },
     "execution_count": 11,
     "metadata": {},
     "output_type": "execute_result"
    }
   ],
   "source": [
    "l2"
   ]
  },
  {
   "cell_type": "code",
   "execution_count": 12,
   "metadata": {},
   "outputs": [],
   "source": [
    "data.drop(l2,axis=1,inplace=True)"
   ]
  },
  {
   "cell_type": "code",
   "execution_count": 13,
   "metadata": {},
   "outputs": [
    {
     "data": {
      "text/plain": [
       "(855969, 38)"
      ]
     },
     "execution_count": 13,
     "metadata": {},
     "output_type": "execute_result"
    }
   ],
   "source": [
    "data.shape"
   ]
  },
  {
   "cell_type": "code",
   "execution_count": 14,
   "metadata": {},
   "outputs": [
    {
     "name": "stdout",
     "output_type": "stream",
     "text": [
      "<class 'pandas.core.frame.DataFrame'>\n",
      "RangeIndex: 855969 entries, 0 to 855968\n",
      "Data columns (total 38 columns):\n",
      "term                       855969 non-null object\n",
      "int_rate                   855969 non-null float64\n",
      "grade                      855969 non-null object\n",
      "sub_grade                  855969 non-null object\n",
      "emp_title                  806526 non-null object\n",
      "emp_length                 812908 non-null object\n",
      "home_ownership             855969 non-null object\n",
      "annual_inc                 855969 non-null float64\n",
      "verification_status        855969 non-null object\n",
      "issue_d                    855969 non-null object\n",
      "pymnt_plan                 855969 non-null object\n",
      "purpose                    855969 non-null object\n",
      "title                      855936 non-null object\n",
      "zip_code                   855969 non-null object\n",
      "addr_state                 855969 non-null object\n",
      "earliest_cr_line           855969 non-null object\n",
      "inq_last_6mths             855969 non-null float64\n",
      "open_acc                   855969 non-null float64\n",
      "revol_bal                  855969 non-null float64\n",
      "revol_util                 855523 non-null float64\n",
      "total_acc                  855969 non-null float64\n",
      "initial_list_status        855969 non-null object\n",
      "out_prncp                  855969 non-null float64\n",
      "out_prncp_inv              855969 non-null float64\n",
      "total_pymnt                855969 non-null float64\n",
      "total_pymnt_inv            855969 non-null float64\n",
      "total_rec_prncp            855969 non-null float64\n",
      "total_rec_int              855969 non-null float64\n",
      "total_rec_late_fee         855969 non-null float64\n",
      "recoveries                 855969 non-null float64\n",
      "collection_recovery_fee    855969 non-null float64\n",
      "last_pymnt_d               847107 non-null object\n",
      "last_pymnt_amnt            855969 non-null float64\n",
      "last_credit_pull_d         855919 non-null object\n",
      "application_type           855969 non-null object\n",
      "tot_cur_bal                788656 non-null float64\n",
      "total_rev_hi_lim           788656 non-null float64\n",
      "default_ind                855969 non-null int64\n",
      "dtypes: float64(19), int64(1), object(18)\n",
      "memory usage: 248.2+ MB\n"
     ]
    }
   ],
   "source": [
    "data.info()"
   ]
  },
  {
   "cell_type": "code",
   "execution_count": 15,
   "metadata": {},
   "outputs": [
    {
     "data": {
      "text/plain": [
       "term                            2\n",
       "int_rate                      520\n",
       "grade                           7\n",
       "sub_grade                      35\n",
       "emp_title                  290912\n",
       "emp_length                     11\n",
       "home_ownership                  6\n",
       "annual_inc                  48163\n",
       "verification_status             3\n",
       "issue_d                       103\n",
       "pymnt_plan                      2\n",
       "purpose                        14\n",
       "title                       60991\n",
       "zip_code                      931\n",
       "addr_state                     51\n",
       "earliest_cr_line              697\n",
       "inq_last_6mths                  9\n",
       "open_acc                       77\n",
       "revol_bal                   72779\n",
       "revol_util                   1338\n",
       "total_acc                     134\n",
       "initial_list_status             2\n",
       "out_prncp                  236739\n",
       "out_prncp_inv              254328\n",
       "total_pymnt                494607\n",
       "total_pymnt_inv            494744\n",
       "total_rec_prncp            250385\n",
       "total_rec_int              317683\n",
       "total_rec_late_fee           5386\n",
       "recoveries                  22627\n",
       "collection_recovery_fee     20529\n",
       "last_pymnt_d                   97\n",
       "last_pymnt_amnt            230321\n",
       "last_credit_pull_d            102\n",
       "application_type                2\n",
       "tot_cur_bal                322286\n",
       "total_rev_hi_lim            20793\n",
       "default_ind                     2\n",
       "dtype: int64"
      ]
     },
     "execution_count": 15,
     "metadata": {},
     "output_type": "execute_result"
    }
   ],
   "source": [
    "data.nunique()"
   ]
  },
  {
   "cell_type": "code",
   "execution_count": 16,
   "metadata": {},
   "outputs": [
    {
     "name": "stdout",
     "output_type": "stream",
     "text": [
      "term\n",
      " 36 months    600221\n",
      " 60 months    255748\n",
      "dtype: int64\n",
      "pymnt_plan\n",
      "n    855964\n",
      "y         5\n",
      "dtype: int64\n",
      "initial_list_status\n",
      "f    442555\n",
      "w    413414\n",
      "dtype: int64\n",
      "application_type\n",
      "INDIVIDUAL    855527\n",
      "JOINT            442\n",
      "dtype: int64\n"
     ]
    }
   ],
   "source": [
    "print(data.groupby('term').size())\n",
    "print(data.groupby('pymnt_plan').size())\n",
    "print(data.groupby('initial_list_status').size())\n",
    "print(data.groupby('application_type').size())"
   ]
  },
  {
   "cell_type": "code",
   "execution_count": 17,
   "metadata": {},
   "outputs": [],
   "source": [
    "data.drop([\"pymnt_plan\",\"application_type\"],axis=1,inplace=True)"
   ]
  },
  {
   "cell_type": "code",
   "execution_count": 18,
   "metadata": {},
   "outputs": [
    {
     "data": {
      "text/plain": [
       "(855969, 36)"
      ]
     },
     "execution_count": 18,
     "metadata": {},
     "output_type": "execute_result"
    }
   ],
   "source": [
    "data.shape"
   ]
  },
  {
   "cell_type": "code",
   "execution_count": 19,
   "metadata": {},
   "outputs": [],
   "source": [
    "data = pd.get_dummies(data,columns = [\"term\",\"initial_list_status\"],drop_first= True)"
   ]
  },
  {
   "cell_type": "code",
   "execution_count": 20,
   "metadata": {},
   "outputs": [
    {
     "data": {
      "text/plain": [
       "(855969, 36)"
      ]
     },
     "execution_count": 20,
     "metadata": {},
     "output_type": "execute_result"
    }
   ],
   "source": [
    "data.shape"
   ]
  },
  {
   "cell_type": "code",
   "execution_count": 21,
   "metadata": {},
   "outputs": [
    {
     "name": "stdout",
     "output_type": "stream",
     "text": [
      "<class 'pandas.core.frame.DataFrame'>\n",
      "RangeIndex: 855969 entries, 0 to 855968\n",
      "Data columns (total 36 columns):\n",
      "int_rate                   855969 non-null float64\n",
      "grade                      855969 non-null object\n",
      "sub_grade                  855969 non-null object\n",
      "emp_title                  806526 non-null object\n",
      "emp_length                 812908 non-null object\n",
      "home_ownership             855969 non-null object\n",
      "annual_inc                 855969 non-null float64\n",
      "verification_status        855969 non-null object\n",
      "issue_d                    855969 non-null object\n",
      "purpose                    855969 non-null object\n",
      "title                      855936 non-null object\n",
      "zip_code                   855969 non-null object\n",
      "addr_state                 855969 non-null object\n",
      "earliest_cr_line           855969 non-null object\n",
      "inq_last_6mths             855969 non-null float64\n",
      "open_acc                   855969 non-null float64\n",
      "revol_bal                  855969 non-null float64\n",
      "revol_util                 855523 non-null float64\n",
      "total_acc                  855969 non-null float64\n",
      "out_prncp                  855969 non-null float64\n",
      "out_prncp_inv              855969 non-null float64\n",
      "total_pymnt                855969 non-null float64\n",
      "total_pymnt_inv            855969 non-null float64\n",
      "total_rec_prncp            855969 non-null float64\n",
      "total_rec_int              855969 non-null float64\n",
      "total_rec_late_fee         855969 non-null float64\n",
      "recoveries                 855969 non-null float64\n",
      "collection_recovery_fee    855969 non-null float64\n",
      "last_pymnt_d               847107 non-null object\n",
      "last_pymnt_amnt            855969 non-null float64\n",
      "last_credit_pull_d         855919 non-null object\n",
      "tot_cur_bal                788656 non-null float64\n",
      "total_rev_hi_lim           788656 non-null float64\n",
      "default_ind                855969 non-null int64\n",
      "term_ 60 months            855969 non-null uint8\n",
      "initial_list_status_w      855969 non-null uint8\n",
      "dtypes: float64(19), int64(1), object(14), uint8(2)\n",
      "memory usage: 223.7+ MB\n"
     ]
    }
   ],
   "source": [
    "data.info()"
   ]
  },
  {
   "cell_type": "code",
   "execution_count": 22,
   "metadata": {},
   "outputs": [
    {
     "name": "stdout",
     "output_type": "stream",
     "text": [
      "home_ownership\n",
      "ANY              3\n",
      "MORTGAGE    429106\n",
      "NONE            45\n",
      "OTHER          144\n",
      "OWN          84136\n",
      "RENT        342535\n",
      "dtype: int64\n"
     ]
    }
   ],
   "source": [
    "print(data.groupby('home_ownership').size())"
   ]
  },
  {
   "cell_type": "code",
   "execution_count": 23,
   "metadata": {},
   "outputs": [],
   "source": [
    "data['home_ownership']=np.where(data['home_ownership']=='MORTGAGE',0,data['home_ownership'])\n",
    "data['home_ownership']=np.where(data['home_ownership']=='OWN',0,data['home_ownership'])\n",
    "data['home_ownership']=np.where(data['home_ownership']=='RENT',0,data['home_ownership'])\n",
    "data['home_ownership']=np.where(data['home_ownership']=='ANY',1,data['home_ownership'])\n",
    "data['home_ownership']=np.where(data['home_ownership']=='NONE',1,data['home_ownership'])\n",
    "data['home_ownership']=np.where(data['home_ownership']=='OTHER',1,data['home_ownership'])\n",
    "\n"
   ]
  },
  {
   "cell_type": "code",
   "execution_count": 24,
   "metadata": {},
   "outputs": [
    {
     "name": "stdout",
     "output_type": "stream",
     "text": [
      "home_ownership\n",
      "0    855777\n",
      "1       192\n",
      "dtype: int64\n"
     ]
    }
   ],
   "source": [
    "print(data.groupby('home_ownership').size())"
   ]
  },
  {
   "cell_type": "code",
   "execution_count": 25,
   "metadata": {},
   "outputs": [],
   "source": [
    "data['home_ownership'] = data.home_ownership.astype(float)"
   ]
  },
  {
   "cell_type": "code",
   "execution_count": 26,
   "metadata": {},
   "outputs": [
    {
     "name": "stdout",
     "output_type": "stream",
     "text": [
      "<class 'pandas.core.frame.DataFrame'>\n",
      "RangeIndex: 855969 entries, 0 to 855968\n",
      "Data columns (total 36 columns):\n",
      "int_rate                   855969 non-null float64\n",
      "grade                      855969 non-null object\n",
      "sub_grade                  855969 non-null object\n",
      "emp_title                  806526 non-null object\n",
      "emp_length                 812908 non-null object\n",
      "home_ownership             855969 non-null float64\n",
      "annual_inc                 855969 non-null float64\n",
      "verification_status        855969 non-null object\n",
      "issue_d                    855969 non-null object\n",
      "purpose                    855969 non-null object\n",
      "title                      855936 non-null object\n",
      "zip_code                   855969 non-null object\n",
      "addr_state                 855969 non-null object\n",
      "earliest_cr_line           855969 non-null object\n",
      "inq_last_6mths             855969 non-null float64\n",
      "open_acc                   855969 non-null float64\n",
      "revol_bal                  855969 non-null float64\n",
      "revol_util                 855523 non-null float64\n",
      "total_acc                  855969 non-null float64\n",
      "out_prncp                  855969 non-null float64\n",
      "out_prncp_inv              855969 non-null float64\n",
      "total_pymnt                855969 non-null float64\n",
      "total_pymnt_inv            855969 non-null float64\n",
      "total_rec_prncp            855969 non-null float64\n",
      "total_rec_int              855969 non-null float64\n",
      "total_rec_late_fee         855969 non-null float64\n",
      "recoveries                 855969 non-null float64\n",
      "collection_recovery_fee    855969 non-null float64\n",
      "last_pymnt_d               847107 non-null object\n",
      "last_pymnt_amnt            855969 non-null float64\n",
      "last_credit_pull_d         855919 non-null object\n",
      "tot_cur_bal                788656 non-null float64\n",
      "total_rev_hi_lim           788656 non-null float64\n",
      "default_ind                855969 non-null int64\n",
      "term_ 60 months            855969 non-null uint8\n",
      "initial_list_status_w      855969 non-null uint8\n",
      "dtypes: float64(20), int64(1), object(13), uint8(2)\n",
      "memory usage: 223.7+ MB\n"
     ]
    }
   ],
   "source": [
    "data.info()"
   ]
  },
  {
   "cell_type": "code",
   "execution_count": 27,
   "metadata": {},
   "outputs": [
    {
     "data": {
      "text/plain": [
       "verification_status\n",
       "Not Verified       257742\n",
       "Source Verified    318178\n",
       "Verified           280049\n",
       "dtype: int64"
      ]
     },
     "execution_count": 27,
     "metadata": {},
     "output_type": "execute_result"
    }
   ],
   "source": [
    "data.groupby('verification_status').size()"
   ]
  },
  {
   "cell_type": "code",
   "execution_count": 28,
   "metadata": {},
   "outputs": [],
   "source": [
    "data = pd.get_dummies(data,columns = [\"verification_status\"],drop_first= True)"
   ]
  },
  {
   "cell_type": "code",
   "execution_count": 29,
   "metadata": {},
   "outputs": [
    {
     "name": "stdout",
     "output_type": "stream",
     "text": [
      "<class 'pandas.core.frame.DataFrame'>\n",
      "RangeIndex: 855969 entries, 0 to 855968\n",
      "Data columns (total 37 columns):\n",
      "int_rate                               855969 non-null float64\n",
      "grade                                  855969 non-null object\n",
      "sub_grade                              855969 non-null object\n",
      "emp_title                              806526 non-null object\n",
      "emp_length                             812908 non-null object\n",
      "home_ownership                         855969 non-null float64\n",
      "annual_inc                             855969 non-null float64\n",
      "issue_d                                855969 non-null object\n",
      "purpose                                855969 non-null object\n",
      "title                                  855936 non-null object\n",
      "zip_code                               855969 non-null object\n",
      "addr_state                             855969 non-null object\n",
      "earliest_cr_line                       855969 non-null object\n",
      "inq_last_6mths                         855969 non-null float64\n",
      "open_acc                               855969 non-null float64\n",
      "revol_bal                              855969 non-null float64\n",
      "revol_util                             855523 non-null float64\n",
      "total_acc                              855969 non-null float64\n",
      "out_prncp                              855969 non-null float64\n",
      "out_prncp_inv                          855969 non-null float64\n",
      "total_pymnt                            855969 non-null float64\n",
      "total_pymnt_inv                        855969 non-null float64\n",
      "total_rec_prncp                        855969 non-null float64\n",
      "total_rec_int                          855969 non-null float64\n",
      "total_rec_late_fee                     855969 non-null float64\n",
      "recoveries                             855969 non-null float64\n",
      "collection_recovery_fee                855969 non-null float64\n",
      "last_pymnt_d                           847107 non-null object\n",
      "last_pymnt_amnt                        855969 non-null float64\n",
      "last_credit_pull_d                     855919 non-null object\n",
      "tot_cur_bal                            788656 non-null float64\n",
      "total_rev_hi_lim                       788656 non-null float64\n",
      "default_ind                            855969 non-null int64\n",
      "term_ 60 months                        855969 non-null uint8\n",
      "initial_list_status_w                  855969 non-null uint8\n",
      "verification_status_Source Verified    855969 non-null uint8\n",
      "verification_status_Verified           855969 non-null uint8\n",
      "dtypes: float64(20), int64(1), object(12), uint8(4)\n",
      "memory usage: 218.8+ MB\n"
     ]
    }
   ],
   "source": [
    "data.info()"
   ]
  },
  {
   "cell_type": "code",
   "execution_count": 30,
   "metadata": {},
   "outputs": [
    {
     "data": {
      "text/plain": [
       "grade\n",
       "A    145665\n",
       "B    247998\n",
       "C    236855\n",
       "D    132802\n",
       "E     66448\n",
       "F     21328\n",
       "G      4873\n",
       "dtype: int64"
      ]
     },
     "execution_count": 30,
     "metadata": {},
     "output_type": "execute_result"
    }
   ],
   "source": [
    "data.groupby('grade').size()"
   ]
  },
  {
   "cell_type": "code",
   "execution_count": 31,
   "metadata": {},
   "outputs": [],
   "source": [
    "import matplotlib.pyplot as plt\n",
    "import seaborn as sns"
   ]
  },
  {
   "cell_type": "code",
   "execution_count": 32,
   "metadata": {},
   "outputs": [
    {
     "data": {
      "text/plain": [
       "<matplotlib.axes._subplots.AxesSubplot at 0x22010cb90f0>"
      ]
     },
     "execution_count": 32,
     "metadata": {},
     "output_type": "execute_result"
    },
    {
     "data": {
      "image/png": "[encoded data removed]",
      "text/plain": [
       "<Figure size 432x288 with 1 Axes>"
      ]
     },
     "metadata": {},
     "output_type": "display_data"
    }
   ],
   "source": [
    "sns.countplot('grade',data=data,hue='default_ind',color='red',saturation=0.5)"
   ]
  },
  {
   "cell_type": "code",
   "execution_count": 33,
   "metadata": {},
   "outputs": [],
   "source": [
    "data['grade']=np.where(data['grade']=='A',0,data['grade'])\n",
    "data['grade']=np.where(data['grade']=='B',0,data['grade'])\n",
    "data['grade']=np.where(data['grade']=='C',0,data['grade'])\n",
    "data['grade']=np.where(data['grade']=='D',1,data['grade'])\n",
    "data['grade']=np.where(data['grade']=='E',1,data['grade'])\n",
    "data['grade']=np.where(data['grade']=='F',1,data['grade'])\n",
    "data['grade']=np.where(data['grade']=='G',1,data['grade'])"
   ]
  },
  {
   "cell_type": "code",
   "execution_count": 34,
   "metadata": {},
   "outputs": [
    {
     "data": {
      "text/plain": [
       "grade\n",
       "0    630518\n",
       "1    225451\n",
       "dtype: int64"
      ]
     },
     "execution_count": 34,
     "metadata": {},
     "output_type": "execute_result"
    }
   ],
   "source": [
    "data.groupby('grade').size()"
   ]
  },
  {
   "cell_type": "code",
   "execution_count": 35,
   "metadata": {},
   "outputs": [
    {
     "data": {
      "text/plain": [
       "int_rate                               float64\n",
       "grade                                   object\n",
       "sub_grade                               object\n",
       "emp_title                               object\n",
       "emp_length                              object\n",
       "home_ownership                         float64\n",
       "annual_inc                             float64\n",
       "issue_d                                 object\n",
       "purpose                                 object\n",
       "title                                   object\n",
       "zip_code                                object\n",
       "addr_state                              object\n",
       "earliest_cr_line                        object\n",
       "inq_last_6mths                         float64\n",
       "open_acc                               float64\n",
       "revol_bal                              float64\n",
       "revol_util                             float64\n",
       "total_acc                              float64\n",
       "out_prncp                              float64\n",
       "out_prncp_inv                          float64\n",
       "total_pymnt                            float64\n",
       "total_pymnt_inv                        float64\n",
       "total_rec_prncp                        float64\n",
       "total_rec_int                          float64\n",
       "total_rec_late_fee                     float64\n",
       "recoveries                             float64\n",
       "collection_recovery_fee                float64\n",
       "last_pymnt_d                            object\n",
       "last_pymnt_amnt                        float64\n",
       "last_credit_pull_d                      object\n",
       "tot_cur_bal                            float64\n",
       "total_rev_hi_lim                       float64\n",
       "default_ind                              int64\n",
       "term_ 60 months                          uint8\n",
       "initial_list_status_w                    uint8\n",
       "verification_status_Source Verified      uint8\n",
       "verification_status_Verified             uint8\n",
       "dtype: object"
      ]
     },
     "execution_count": 35,
     "metadata": {},
     "output_type": "execute_result"
    }
   ],
   "source": [
    "data.dtypes"
   ]
  },
  {
   "cell_type": "code",
   "execution_count": 36,
   "metadata": {},
   "outputs": [],
   "source": [
    "data['grade'] = data.home_ownership.astype(float)"
   ]
  },
  {
   "cell_type": "code",
   "execution_count": 37,
   "metadata": {},
   "outputs": [
    {
     "name": "stdout",
     "output_type": "stream",
     "text": [
      "<class 'pandas.core.frame.DataFrame'>\n",
      "RangeIndex: 855969 entries, 0 to 855968\n",
      "Data columns (total 37 columns):\n",
      "int_rate                               855969 non-null float64\n",
      "grade                                  855969 non-null float64\n",
      "sub_grade                              855969 non-null object\n",
      "emp_title                              806526 non-null object\n",
      "emp_length                             812908 non-null object\n",
      "home_ownership                         855969 non-null float64\n",
      "annual_inc                             855969 non-null float64\n",
      "issue_d                                855969 non-null object\n",
      "purpose                                855969 non-null object\n",
      "title                                  855936 non-null object\n",
      "zip_code                               855969 non-null object\n",
      "addr_state                             855969 non-null object\n",
      "earliest_cr_line                       855969 non-null object\n",
      "inq_last_6mths                         855969 non-null float64\n",
      "open_acc                               855969 non-null float64\n",
      "revol_bal                              855969 non-null float64\n",
      "revol_util                             855523 non-null float64\n",
      "total_acc                              855969 non-null float64\n",
      "out_prncp                              855969 non-null float64\n",
      "out_prncp_inv                          855969 non-null float64\n",
      "total_pymnt                            855969 non-null float64\n",
      "total_pymnt_inv                        855969 non-null float64\n",
      "total_rec_prncp                        855969 non-null float64\n",
      "total_rec_int                          855969 non-null float64\n",
      "total_rec_late_fee                     855969 non-null float64\n",
      "recoveries                             855969 non-null float64\n",
      "collection_recovery_fee                855969 non-null float64\n",
      "last_pymnt_d                           847107 non-null object\n",
      "last_pymnt_amnt                        855969 non-null float64\n",
      "last_credit_pull_d                     855919 non-null object\n",
      "tot_cur_bal                            788656 non-null float64\n",
      "total_rev_hi_lim                       788656 non-null float64\n",
      "default_ind                            855969 non-null int64\n",
      "term_ 60 months                        855969 non-null uint8\n",
      "initial_list_status_w                  855969 non-null uint8\n",
      "verification_status_Source Verified    855969 non-null uint8\n",
      "verification_status_Verified           855969 non-null uint8\n",
      "dtypes: float64(21), int64(1), object(11), uint8(4)\n",
      "memory usage: 218.8+ MB\n"
     ]
    }
   ],
   "source": [
    "data.info()"
   ]
  },
  {
   "cell_type": "code",
   "execution_count": 38,
   "metadata": {},
   "outputs": [
    {
     "data": {
      "text/plain": [
       "(855969, 37)"
      ]
     },
     "execution_count": 38,
     "metadata": {},
     "output_type": "execute_result"
    }
   ],
   "source": [
    "data.shape"
   ]
  },
  {
   "cell_type": "code",
   "execution_count": 39,
   "metadata": {},
   "outputs": [],
   "source": [
    "data['last_credit_pull_d'] = pd.to_datetime(data['last_credit_pull_d'])\n",
    "data['Month'] = data['last_credit_pull_d'].apply(lambda x: x.month)\n",
    "data['Year'] = data['last_credit_pull_d'].apply(lambda x: x.year)"
   ]
  },
  {
   "cell_type": "code",
   "execution_count": 40,
   "metadata": {},
   "outputs": [],
   "source": [
    "data = data.drop(['last_credit_pull_d'], axis = 1)"
   ]
  },
  {
   "cell_type": "code",
   "execution_count": 41,
   "metadata": {},
   "outputs": [
    {
     "name": "stdout",
     "output_type": "stream",
     "text": [
      "<class 'pandas.core.frame.DataFrame'>\n",
      "RangeIndex: 855969 entries, 0 to 855968\n",
      "Data columns (total 38 columns):\n",
      "int_rate                               855969 non-null float64\n",
      "grade                                  855969 non-null float64\n",
      "sub_grade                              855969 non-null object\n",
      "emp_title                              806526 non-null object\n",
      "emp_length                             812908 non-null object\n",
      "home_ownership                         855969 non-null float64\n",
      "annual_inc                             855969 non-null float64\n",
      "issue_d                                855969 non-null object\n",
      "purpose                                855969 non-null object\n",
      "title                                  855936 non-null object\n",
      "zip_code                               855969 non-null object\n",
      "addr_state                             855969 non-null object\n",
      "earliest_cr_line                       855969 non-null object\n",
      "inq_last_6mths                         855969 non-null float64\n",
      "open_acc                               855969 non-null float64\n",
      "revol_bal                              855969 non-null float64\n",
      "revol_util                             855523 non-null float64\n",
      "total_acc                              855969 non-null float64\n",
      "out_prncp                              855969 non-null float64\n",
      "out_prncp_inv                          855969 non-null float64\n",
      "total_pymnt                            855969 non-null float64\n",
      "total_pymnt_inv                        855969 non-null float64\n",
      "total_rec_prncp                        855969 non-null float64\n",
      "total_rec_int                          855969 non-null float64\n",
      "total_rec_late_fee                     855969 non-null float64\n",
      "recoveries                             855969 non-null float64\n",
      "collection_recovery_fee                855969 non-null float64\n",
      "last_pymnt_d                           847107 non-null object\n",
      "last_pymnt_amnt                        855969 non-null float64\n",
      "tot_cur_bal                            788656 non-null float64\n",
      "total_rev_hi_lim                       788656 non-null float64\n",
      "default_ind                            855969 non-null int64\n",
      "term_ 60 months                        855969 non-null uint8\n",
      "initial_list_status_w                  855969 non-null uint8\n",
      "verification_status_Source Verified    855969 non-null uint8\n",
      "verification_status_Verified           855969 non-null uint8\n",
      "Month                                  855919 non-null float64\n",
      "Year                                   855919 non-null float64\n",
      "dtypes: float64(23), int64(1), object(10), uint8(4)\n",
      "memory usage: 225.3+ MB\n"
     ]
    }
   ],
   "source": [
    "data.info()"
   ]
  },
  {
   "cell_type": "code",
   "execution_count": 42,
   "metadata": {},
   "outputs": [],
   "source": [
    "l3=[]\n",
    "for i in range(len(data.dtypes)):\n",
    "    if data.dtypes[i]!='object':\n",
    "        l3.append(data.dtypes.index[i])"
   ]
  },
  {
   "cell_type": "code",
   "execution_count": 43,
   "metadata": {},
   "outputs": [],
   "source": [
    "data=data[l3]"
   ]
  },
  {
   "cell_type": "code",
   "execution_count": 44,
   "metadata": {},
   "outputs": [
    {
     "name": "stdout",
     "output_type": "stream",
     "text": [
      "<class 'pandas.core.frame.DataFrame'>\n",
      "RangeIndex: 855969 entries, 0 to 855968\n",
      "Data columns (total 28 columns):\n",
      "int_rate                               855969 non-null float64\n",
      "grade                                  855969 non-null float64\n",
      "home_ownership                         855969 non-null float64\n",
      "annual_inc                             855969 non-null float64\n",
      "inq_last_6mths                         855969 non-null float64\n",
      "open_acc                               855969 non-null float64\n",
      "revol_bal                              855969 non-null float64\n",
      "revol_util                             855523 non-null float64\n",
      "total_acc                              855969 non-null float64\n",
      "out_prncp                              855969 non-null float64\n",
      "out_prncp_inv                          855969 non-null float64\n",
      "total_pymnt                            855969 non-null float64\n",
      "total_pymnt_inv                        855969 non-null float64\n",
      "total_rec_prncp                        855969 non-null float64\n",
      "total_rec_int                          855969 non-null float64\n",
      "total_rec_late_fee                     855969 non-null float64\n",
      "recoveries                             855969 non-null float64\n",
      "collection_recovery_fee                855969 non-null float64\n",
      "last_pymnt_amnt                        855969 non-null float64\n",
      "tot_cur_bal                            788656 non-null float64\n",
      "total_rev_hi_lim                       788656 non-null float64\n",
      "default_ind                            855969 non-null int64\n",
      "term_ 60 months                        855969 non-null uint8\n",
      "initial_list_status_w                  855969 non-null uint8\n",
      "verification_status_Source Verified    855969 non-null uint8\n",
      "verification_status_Verified           855969 non-null uint8\n",
      "Month                                  855919 non-null float64\n",
      "Year                                   855919 non-null float64\n",
      "dtypes: float64(23), int64(1), uint8(4)\n",
      "memory usage: 160.0 MB\n"
     ]
    }
   ],
   "source": [
    "data.info()"
   ]
  },
  {
   "cell_type": "code",
   "execution_count": 45,
   "metadata": {},
   "outputs": [
    {
     "data": {
      "text/plain": [
       "int_rate                                   0\n",
       "grade                                      0\n",
       "home_ownership                             0\n",
       "annual_inc                                 0\n",
       "inq_last_6mths                             0\n",
       "open_acc                                   0\n",
       "revol_bal                                  0\n",
       "revol_util                               446\n",
       "total_acc                                  0\n",
       "out_prncp                                  0\n",
       "out_prncp_inv                              0\n",
       "total_pymnt                                0\n",
       "total_pymnt_inv                            0\n",
       "total_rec_prncp                            0\n",
       "total_rec_int                              0\n",
       "total_rec_late_fee                         0\n",
       "recoveries                                 0\n",
       "collection_recovery_fee                    0\n",
       "last_pymnt_amnt                            0\n",
       "tot_cur_bal                            67313\n",
       "total_rev_hi_lim                       67313\n",
       "default_ind                                0\n",
       "term_ 60 months                            0\n",
       "initial_list_status_w                      0\n",
       "verification_status_Source Verified        0\n",
       "verification_status_Verified               0\n",
       "Month                                     50\n",
       "Year                                      50\n",
       "dtype: int64"
      ]
     },
     "execution_count": 45,
     "metadata": {},
     "output_type": "execute_result"
    }
   ],
   "source": [
    "data.isnull().sum()"
   ]
  },
  {
   "cell_type": "code",
   "execution_count": 46,
   "metadata": {},
   "outputs": [],
   "source": [
    "data.drop([\"tot_cur_bal\",\"total_rev_hi_lim\"], axis=1, inplace=True)"
   ]
  },
  {
   "cell_type": "code",
   "execution_count": 47,
   "metadata": {},
   "outputs": [
    {
     "data": {
      "text/plain": [
       "(855969, 26)"
      ]
     },
     "execution_count": 47,
     "metadata": {},
     "output_type": "execute_result"
    }
   ],
   "source": [
    "data.shape"
   ]
  },
  {
   "cell_type": "code",
   "execution_count": 48,
   "metadata": {},
   "outputs": [
    {
     "data": {
      "text/plain": [
       "int_rate                                 0\n",
       "grade                                    0\n",
       "home_ownership                           0\n",
       "annual_inc                               0\n",
       "inq_last_6mths                           0\n",
       "open_acc                                 0\n",
       "revol_bal                                0\n",
       "revol_util                             446\n",
       "total_acc                                0\n",
       "out_prncp                                0\n",
       "out_prncp_inv                            0\n",
       "total_pymnt                              0\n",
       "total_pymnt_inv                          0\n",
       "total_rec_prncp                          0\n",
       "total_rec_int                            0\n",
       "total_rec_late_fee                       0\n",
       "recoveries                               0\n",
       "collection_recovery_fee                  0\n",
       "last_pymnt_amnt                          0\n",
       "default_ind                              0\n",
       "term_ 60 months                          0\n",
       "initial_list_status_w                    0\n",
       "verification_status_Source Verified      0\n",
       "verification_status_Verified             0\n",
       "Month                                   50\n",
       "Year                                    50\n",
       "dtype: int64"
      ]
     },
     "execution_count": 48,
     "metadata": {},
     "output_type": "execute_result"
    }
   ],
   "source": [
    "data.isnull().sum()"
   ]
  },
  {
   "cell_type": "code",
   "execution_count": 49,
   "metadata": {},
   "outputs": [],
   "source": [
    "data['revol_util'].fillna(data['revol_util'].mean(),inplace=True)\n",
    "data['Month'].fillna(data.mode()['Month'][0],inplace=True)\n",
    "data['Year'].fillna(data.mode()['Year'][0],inplace=True)"
   ]
  },
  {
   "cell_type": "code",
   "execution_count": 50,
   "metadata": {},
   "outputs": [
    {
     "data": {
      "text/plain": [
       "int_rate                               0\n",
       "grade                                  0\n",
       "home_ownership                         0\n",
       "annual_inc                             0\n",
       "inq_last_6mths                         0\n",
       "open_acc                               0\n",
       "revol_bal                              0\n",
       "revol_util                             0\n",
       "total_acc                              0\n",
       "out_prncp                              0\n",
       "out_prncp_inv                          0\n",
       "total_pymnt                            0\n",
       "total_pymnt_inv                        0\n",
       "total_rec_prncp                        0\n",
       "total_rec_int                          0\n",
       "total_rec_late_fee                     0\n",
       "recoveries                             0\n",
       "collection_recovery_fee                0\n",
       "last_pymnt_amnt                        0\n",
       "default_ind                            0\n",
       "term_ 60 months                        0\n",
       "initial_list_status_w                  0\n",
       "verification_status_Source Verified    0\n",
       "verification_status_Verified           0\n",
       "Month                                  0\n",
       "Year                                   0\n",
       "dtype: int64"
      ]
     },
     "execution_count": 50,
     "metadata": {},
     "output_type": "execute_result"
    }
   ],
   "source": [
    "data.isnull().sum()"
   ]
  },
  {
   "cell_type": "code",
   "execution_count": 51,
   "metadata": {},
   "outputs": [],
   "source": [
    "X = data.drop(\"default_ind\", axis=1)\n",
    "Y = data[\"default_ind\"]"
   ]
  },
  {
   "cell_type": "code",
   "execution_count": 52,
   "metadata": {},
   "outputs": [],
   "source": [
    "from sklearn.model_selection import train_test_split"
   ]
  },
  {
   "cell_type": "code",
   "execution_count": 53,
   "metadata": {},
   "outputs": [],
   "source": [
    "X_train,X_test,Y_train,Y_test=train_test_split(X,Y,test_size=0.25,random_state=0)"
   ]
  },
  {
   "cell_type": "code",
   "execution_count": 54,
   "metadata": {},
   "outputs": [],
   "source": [
    "from sklearn.preprocessing import StandardScaler\n",
    "sc=StandardScaler()\n",
    "X_train=sc.fit_transform(X_train)\n",
    "X_test=sc.transform(X_test)"
   ]
  },
  {
   "cell_type": "code",
   "execution_count": 55,
   "metadata": {},
   "outputs": [
    {
     "data": {
      "text/plain": [
       "array([[-0.01950371, -0.01482169, -0.01482169, ...,  1.43327587,\n",
       "        -0.40601511,  0.38495758],\n",
       "       [ 0.2598073 , -0.01482169, -0.01482169, ..., -0.69770239,\n",
       "        -0.40601511,  0.38495758],\n",
       "       [ 0.86879686, -0.01482169, -0.01482169, ..., -0.69770239,\n",
       "        -0.40601511,  0.38495758],\n",
       "       ...,\n",
       "       [-0.37665548, -0.01482169, -0.01482169, ...,  1.43327587,\n",
       "        -0.40601511,  0.38495758],\n",
       "       [ 0.86879686, -0.01482169, -0.01482169, ...,  1.43327587,\n",
       "        -0.40601511,  0.38495758],\n",
       "       [ 0.41090997, -0.01482169, -0.01482169, ..., -0.69770239,\n",
       "        -0.40601511,  0.38495758]])"
      ]
     },
     "execution_count": 55,
     "metadata": {},
     "output_type": "execute_result"
    }
   ],
   "source": [
    "X_train"
   ]
  },
  {
   "cell_type": "markdown",
   "metadata": {},
   "source": [
    "# Logistic Regression"
   ]
  },
  {
   "cell_type": "code",
   "execution_count": 56,
   "metadata": {},
   "outputs": [
    {
     "name": "stderr",
     "output_type": "stream",
     "text": [
      "C:\\Users\\Admin\\Anaconda3\\lib\\site-packages\\sklearn\\linear_model\\logistic.py:432: FutureWarning: Default solver will be changed to 'lbfgs' in 0.22. Specify a solver to silence this warning.\n",
      "  FutureWarning)\n"
     ]
    },
    {
     "data": {
      "text/plain": [
       "LogisticRegression(C=1.0, class_weight=None, dual=False, fit_intercept=True,\n",
       "                   intercept_scaling=1, l1_ratio=None, max_iter=100,\n",
       "                   multi_class='warn', n_jobs=None, penalty='l2',\n",
       "                   random_state=None, solver='warn', tol=0.0001, verbose=0,\n",
       "                   warm_start=False)"
      ]
     },
     "execution_count": 56,
     "metadata": {},
     "output_type": "execute_result"
    }
   ],
   "source": [
    "from sklearn.linear_model import LogisticRegression\n",
    "classifier=LogisticRegression()\n",
    "classifier.fit(X_train,Y_train)"
   ]
  },
  {
   "cell_type": "code",
   "execution_count": 58,
   "metadata": {},
   "outputs": [],
   "source": [
    "Y_pred=classifier.predict(X_test)"
   ]
  },
  {
   "cell_type": "code",
   "execution_count": 59,
   "metadata": {},
   "outputs": [
    {
     "data": {
      "text/plain": [
       "array([[202219,    231],\n",
       "       [  2890,   8653]], dtype=int64)"
      ]
     },
     "execution_count": 59,
     "metadata": {},
     "output_type": "execute_result"
    }
   ],
   "source": [
    "from sklearn.metrics import confusion_matrix\n",
    "cm=confusion_matrix(Y_test,Y_pred)\n",
    "cm"
   ]
  },
  {
   "cell_type": "code",
   "execution_count": 60,
   "metadata": {},
   "outputs": [
    {
     "data": {
      "text/plain": [
       "98.5415410784465"
      ]
     },
     "execution_count": 60,
     "metadata": {},
     "output_type": "execute_result"
    }
   ],
   "source": [
    "from sklearn.metrics import accuracy_score\n",
    "accuracy_score(Y_test,Y_pred)*100"
   ]
  },
  {
   "cell_type": "markdown",
   "metadata": {},
   "source": [
    "# Random Forest "
   ]
  },
  {
   "cell_type": "code",
   "execution_count": 61,
   "metadata": {},
   "outputs": [
    {
     "name": "stderr",
     "output_type": "stream",
     "text": [
      "C:\\Users\\Admin\\Anaconda3\\lib\\site-packages\\sklearn\\ensemble\\forest.py:245: FutureWarning: The default value of n_estimators will change from 10 in version 0.20 to 100 in 0.22.\n",
      "  \"10 in version 0.20 to 100 in 0.22.\", FutureWarning)\n"
     ]
    },
    {
     "data": {
      "text/plain": [
       "RandomForestClassifier(bootstrap=True, class_weight=None, criterion='gini',\n",
       "                       max_depth=None, max_features='auto', max_leaf_nodes=None,\n",
       "                       min_impurity_decrease=0.0, min_impurity_split=None,\n",
       "                       min_samples_leaf=1, min_samples_split=2,\n",
       "                       min_weight_fraction_leaf=0.0, n_estimators=10, n_jobs=2,\n",
       "                       oob_score=False, random_state=0, verbose=0,\n",
       "                       warm_start=False)"
      ]
     },
     "execution_count": 61,
     "metadata": {},
     "output_type": "execute_result"
    }
   ],
   "source": [
    "from sklearn.ensemble import RandomForestClassifier\n",
    "classifier=RandomForestClassifier(n_jobs=2,random_state=0)\n",
    "classifier.fit(X_train,Y_train)"
   ]
  },
  {
   "cell_type": "code",
   "execution_count": 62,
   "metadata": {},
   "outputs": [],
   "source": [
    "Y_pred=classifier.predict(X_test)"
   ]
  },
  {
   "cell_type": "code",
   "execution_count": 63,
   "metadata": {},
   "outputs": [
    {
     "data": {
      "text/plain": [
       "array([[202400,     50],\n",
       "       [   666,  10877]], dtype=int64)"
      ]
     },
     "execution_count": 63,
     "metadata": {},
     "output_type": "execute_result"
    }
   ],
   "source": [
    "from sklearn.metrics import confusion_matrix\n",
    "rf=confusion_matrix(Y_test,Y_pred)\n",
    "rf"
   ]
  },
  {
   "cell_type": "code",
   "execution_count": 64,
   "metadata": {},
   "outputs": [
    {
     "data": {
      "text/plain": [
       "99.6654096162024"
      ]
     },
     "execution_count": 64,
     "metadata": {},
     "output_type": "execute_result"
    }
   ],
   "source": [
    "from sklearn.metrics import accuracy_score\n",
    "accuracy_score(Y_test,Y_pred)*100"
   ]
  },
  {
   "cell_type": "code",
   "execution_count": 69,
   "metadata": {},
   "outputs": [
    {
     "ename": "IndexError",
     "evalue": "too many indices for array",
     "output_type": "error",
     "traceback": [
      "\u001b[1;31m---------------------------------------------------------------------------\u001b[0m",
      "\u001b[1;31mIndexError\u001b[0m                                Traceback (most recent call last)",
      "\u001b[1;32m<ipython-input-69-e3ee5e6f00fc>\u001b[0m in \u001b[0;36m<module>\u001b[1;34m()\u001b[0m\n\u001b[1;32m----> 1\u001b[1;33m \u001b[0my_pred_prob_1\u001b[0m\u001b[1;33m=\u001b[0m \u001b[0mY_pred\u001b[0m\u001b[1;33m[\u001b[0m\u001b[1;33m:\u001b[0m\u001b[1;33m,\u001b[0m\u001b[1;36m1\u001b[0m\u001b[1;33m]\u001b[0m\u001b[1;33m\u001b[0m\u001b[0m\n\u001b[0m",
      "\u001b[1;31mIndexError\u001b[0m: too many indices for array"
     ]
    }
   ],
   "source": [
    "y_pred_prob_1= Y_pred[:,1]"
   ]
  },
  {
   "cell_type": "code",
   "execution_count": 67,
   "metadata": {},
   "outputs": [],
   "source": [
    "from sklearn.metrics import roc_curve\n"
   ]
  },
  {
   "cell_type": "code",
   "execution_count": 68,
   "metadata": {},
   "outputs": [
    {
     "data": {
      "image/png": "[encoded data removed]",
      "text/plain": [
       "<Figure size 432x288 with 1 Axes>"
      ]
     },
     "metadata": {},
     "output_type": "display_data"
    }
   ],
   "source": [
    "fpr,tpr,thresholds=roc_curve(Y_test,Y_pred)\n",
    "plt.plot(fpr,tpr)\n",
    "plt.xlim([0.0,1.0])\n",
    "plt.ylim([0.0,1.0])\n",
    "plt.title('ROC Curve')\n",
    "plt.xlabel('FalsePositiveRate')\n",
    "plt.ylabel('TruePositiveRate')\n",
    "plt.grid(True)"
   ]
  }
 ],
 "metadata": {
  "kernelspec": {
   "display_name": "Python 3",
   "language": "python",
   "name": "python3"
  },
  "language_info": {
   "codemirror_mode": {
    "name": "ipython",
    "version": 3
   },
   "file_extension": ".py",
   "mimetype": "text/x-python",
   "name": "python",
   "nbconvert_exporter": "python",
   "pygments_lexer": "ipython3",
   "version": "3.6.5"
  }
 },
 "nbformat": 4,
 "nbformat_minor": 2
}
